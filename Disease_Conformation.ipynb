{
  "nbformat": 4,
  "nbformat_minor": 0,
  "metadata": {
    "colab": {
      "provenance": []
    },
    "kernelspec": {
      "name": "python3",
      "display_name": "Python 3"
    },
    "language_info": {
      "name": "python"
    }
  },
  "cells": [
    {
      "cell_type": "code",
      "source": [
        "# !pip install keras-tuner"
      ],
      "metadata": {
        "id": "0Oq-Qi8HXm2A"
      },
      "execution_count": 1,
      "outputs": []
    },
    {
      "cell_type": "code",
      "execution_count": 2,
      "metadata": {
        "id": "AOHpPMwSNeOQ",
        "colab": {
          "base_uri": "https://localhost:8080/"
        },
        "outputId": "7ae18ccb-b0f1-4c2a-d4e5-5f8e84806567"
      },
      "outputs": [
        {
          "output_type": "stream",
          "name": "stderr",
          "text": [
            "/usr/local/lib/python3.10/dist-packages/dask/dataframe/__init__.py:42: FutureWarning: \n",
            "Dask dataframe query planning is disabled because dask-expr is not installed.\n",
            "\n",
            "You can install it with `pip install dask[dataframe]` or `conda install dask`.\n",
            "This will raise in a future version.\n",
            "\n",
            "  warnings.warn(msg, FutureWarning)\n"
          ]
        }
      ],
      "source": [
        "import numpy as np\n",
        "import pandas as pd\n",
        "pd.set_option('display.max_columns', None)\n",
        "pd.set_option('display.max_rows', None)\n",
        "import seaborn as sns\n",
        "import missingno as mno\n",
        "import matplotlib.pyplot as plt\n",
        "from sklearn.impute import SimpleImputer\n",
        "from sklearn.model_selection import train_test_split,cross_val_score,StratifiedKFold\n",
        "import tensorflow as tf\n",
        "import lightgbm as lgb\n",
        "from tensorflow import keras\n",
        "# from keras_tuner.tuners import RandomSearch\n",
        "from keras.optimizers import Adam\n",
        "from sklearn.preprocessing import StandardScaler,MinMaxScaler,LabelEncoder\n",
        "from sklearn.metrics import confusion_matrix,ConfusionMatrixDisplay,classification_report,auc,accuracy_score,roc_curve,roc_auc_score\n",
        "pd.set_option('display.max_columns', None)\n",
        "pd.set_option('display.max_rows', None)"
      ]
    },
    {
      "cell_type": "code",
      "source": [
        "# DIABETES PREDICTION STARTS"
      ],
      "metadata": {
        "id": "QPqzasj_WBsZ"
      },
      "execution_count": 3,
      "outputs": []
    },
    {
      "cell_type": "code",
      "source": [
        "df=pd.read_csv(\"diabetes_prediction_dataset.csv\")"
      ],
      "metadata": {
        "id": "G4AUKH28QVlH"
      },
      "execution_count": 4,
      "outputs": []
    },
    {
      "cell_type": "code",
      "source": [
        "df.isnull().sum()"
      ],
      "metadata": {
        "colab": {
          "base_uri": "https://localhost:8080/"
        },
        "id": "zATnR9u7QmMe",
        "outputId": "12e37c16-7838-4e9e-d001-ac9c03d2c57c"
      },
      "execution_count": 5,
      "outputs": [
        {
          "output_type": "execute_result",
          "data": {
            "text/plain": [
              "gender                 0\n",
              "age                    0\n",
              "hypertension           0\n",
              "heart_disease          0\n",
              "smoking_history        0\n",
              "bmi                    0\n",
              "HbA1c_level            0\n",
              "blood_glucose_level    0\n",
              "diabetes               0\n",
              "dtype: int64"
            ]
          },
          "metadata": {},
          "execution_count": 5
        }
      ]
    },
    {
      "cell_type": "code",
      "source": [
        "encode_col=['gender','smoking_history']\n",
        "for a in encode_col:\n",
        "  print(a)\n",
        "  le=LabelEncoder()\n",
        "  d1=le.fit_transform(df[a])\n",
        "  df[a]=d1\n"
      ],
      "metadata": {
        "colab": {
          "base_uri": "https://localhost:8080/"
        },
        "id": "-3_zMiYEcaIE",
        "outputId": "6a510086-2f03-4a29-8b78-97c379b8f823"
      },
      "execution_count": 6,
      "outputs": [
        {
          "output_type": "stream",
          "name": "stdout",
          "text": [
            "gender\n",
            "smoking_history\n"
          ]
        }
      ]
    },
    {
      "cell_type": "code",
      "source": [
        "x=df.drop(['diabetes'],axis=1)\n",
        "y=df.diabetes"
      ],
      "metadata": {
        "id": "n3EAIfsoQn_x"
      },
      "execution_count": 7,
      "outputs": []
    },
    {
      "cell_type": "code",
      "source": [
        "x_train,x_test,y_train,y_test = train_test_split(x,y,test_size=0.2,stratify=y,shuffle=True)"
      ],
      "metadata": {
        "id": "tZJZc_lDRvkA"
      },
      "execution_count": 8,
      "outputs": []
    },
    {
      "cell_type": "code",
      "source": [
        "# sc=StandardScaler()\n",
        "# x_train=sc.fit_transform(x_train)\n",
        "# x_test=sc.transform(x_test)\n",
        "mm=MinMaxScaler(feature_range=(0,1))\n",
        "x_train=mm.fit_transform(x_train)\n",
        "x_test=mm.transform(x_test)"
      ],
      "metadata": {
        "id": "E93rdf61Rz-L"
      },
      "execution_count": 9,
      "outputs": []
    },
    {
      "cell_type": "code",
      "source": [
        "ann=tf.keras.models.Sequential()\n",
        "ann.add(tf.keras.layers.Dense(units=64,input_dim=x_train.shape[1],activation='relu'))\n",
        "ann.add(tf.keras.layers.Dense(units=128,activation='relu'))\n",
        "ann.add(tf.keras.layers.Dense(units=64,activation='relu'))\n",
        "ann.add(tf.keras.layers.Dense(units=196,activation='relu'))\n",
        "ann.add(tf.keras.layers.BatchNormalization())\n",
        "ann.add(tf.keras.layers.Dense(units=32,activation='relu'))\n",
        "ann.add(tf.keras.layers.Dense(units=1,activation='sigmoid'))  #output layer\n",
        "ann.compile(optimizer=Adam(learning_rate=0.05),loss='binary_crossentropy',metrics=['accuracy'])"
      ],
      "metadata": {
        "id": "Hgzzc_ynR8YY"
      },
      "execution_count": 10,
      "outputs": []
    },
    {
      "cell_type": "code",
      "source": [
        "prediction=ann.fit(x_train,y_train,batch_size=64,epochs=30,validation_data=(x_test,y_test))"
      ],
      "metadata": {
        "colab": {
          "base_uri": "https://localhost:8080/"
        },
        "id": "9YLkROqER_kU",
        "outputId": "85e0b37d-89d5-40ad-8a0a-36259e333477"
      },
      "execution_count": 11,
      "outputs": [
        {
          "output_type": "stream",
          "name": "stdout",
          "text": [
            "Epoch 1/30\n",
            "1250/1250 [==============================] - 7s 4ms/step - loss: 0.1466 - accuracy: 0.9478 - val_loss: 0.1289 - val_accuracy: 0.9581\n",
            "Epoch 2/30\n",
            "1250/1250 [==============================] - 7s 5ms/step - loss: 0.1373 - accuracy: 0.9526 - val_loss: 0.1800 - val_accuracy: 0.9560\n",
            "Epoch 3/30\n",
            "1250/1250 [==============================] - 6s 5ms/step - loss: 0.1437 - accuracy: 0.9513 - val_loss: 0.1363 - val_accuracy: 0.9464\n",
            "Epoch 4/30\n",
            "1250/1250 [==============================] - 6s 5ms/step - loss: 0.1393 - accuracy: 0.9522 - val_loss: 0.1243 - val_accuracy: 0.9566\n",
            "Epoch 5/30\n",
            "1250/1250 [==============================] - 6s 5ms/step - loss: 0.1356 - accuracy: 0.9532 - val_loss: 0.1798 - val_accuracy: 0.9281\n",
            "Epoch 6/30\n",
            "1250/1250 [==============================] - 5s 4ms/step - loss: 0.3092 - accuracy: 0.9156 - val_loss: 0.2590 - val_accuracy: 0.9150\n",
            "Epoch 7/30\n",
            "1250/1250 [==============================] - 9s 7ms/step - loss: 0.2328 - accuracy: 0.9150 - val_loss: 0.1858 - val_accuracy: 0.9150\n",
            "Epoch 8/30\n",
            "1250/1250 [==============================] - 5s 4ms/step - loss: 0.1571 - accuracy: 0.9437 - val_loss: 0.1295 - val_accuracy: 0.9528\n",
            "Epoch 9/30\n",
            "1250/1250 [==============================] - 7s 6ms/step - loss: 0.1426 - accuracy: 0.9508 - val_loss: 0.1302 - val_accuracy: 0.9587\n",
            "Epoch 10/30\n",
            "1250/1250 [==============================] - 5s 4ms/step - loss: 0.1429 - accuracy: 0.9512 - val_loss: 0.1255 - val_accuracy: 0.9571\n",
            "Epoch 11/30\n",
            "1250/1250 [==============================] - 7s 5ms/step - loss: 0.1367 - accuracy: 0.9536 - val_loss: 0.1231 - val_accuracy: 0.9578\n",
            "Epoch 12/30\n",
            "1250/1250 [==============================] - 5s 4ms/step - loss: 0.1446 - accuracy: 0.9507 - val_loss: 0.1550 - val_accuracy: 0.9406\n",
            "Epoch 13/30\n",
            "1250/1250 [==============================] - 5s 4ms/step - loss: 0.1383 - accuracy: 0.9526 - val_loss: 0.1206 - val_accuracy: 0.9585\n",
            "Epoch 14/30\n",
            "1250/1250 [==============================] - 7s 5ms/step - loss: 0.1403 - accuracy: 0.9519 - val_loss: 0.1818 - val_accuracy: 0.9291\n",
            "Epoch 15/30\n",
            "1250/1250 [==============================] - 5s 4ms/step - loss: 0.1418 - accuracy: 0.9514 - val_loss: 0.1420 - val_accuracy: 0.9539\n",
            "Epoch 16/30\n",
            "1250/1250 [==============================] - 7s 6ms/step - loss: 0.1376 - accuracy: 0.9530 - val_loss: 0.1259 - val_accuracy: 0.9586\n",
            "Epoch 17/30\n",
            "1250/1250 [==============================] - 5s 4ms/step - loss: 0.1396 - accuracy: 0.9520 - val_loss: 0.1338 - val_accuracy: 0.9492\n",
            "Epoch 18/30\n",
            "1250/1250 [==============================] - 6s 5ms/step - loss: 0.1415 - accuracy: 0.9513 - val_loss: 0.1425 - val_accuracy: 0.9457\n",
            "Epoch 19/30\n",
            "1250/1250 [==============================] - 5s 4ms/step - loss: 0.1463 - accuracy: 0.9501 - val_loss: 0.1323 - val_accuracy: 0.9575\n",
            "Epoch 20/30\n",
            "1250/1250 [==============================] - 7s 6ms/step - loss: 0.1447 - accuracy: 0.9508 - val_loss: 0.1358 - val_accuracy: 0.9582\n",
            "Epoch 21/30\n",
            "1250/1250 [==============================] - 6s 4ms/step - loss: 0.1378 - accuracy: 0.9526 - val_loss: 0.1354 - val_accuracy: 0.9547\n",
            "Epoch 22/30\n",
            "1250/1250 [==============================] - 5s 4ms/step - loss: 0.1387 - accuracy: 0.9519 - val_loss: 0.1715 - val_accuracy: 0.9468\n",
            "Epoch 23/30\n",
            "1250/1250 [==============================] - 7s 5ms/step - loss: 0.1332 - accuracy: 0.9545 - val_loss: 0.1243 - val_accuracy: 0.9574\n",
            "Epoch 24/30\n",
            "1250/1250 [==============================] - 5s 4ms/step - loss: 0.1386 - accuracy: 0.9520 - val_loss: 0.1237 - val_accuracy: 0.9586\n",
            "Epoch 25/30\n",
            "1250/1250 [==============================] - 6s 5ms/step - loss: 0.1341 - accuracy: 0.9542 - val_loss: 0.1289 - val_accuracy: 0.9536\n",
            "Epoch 26/30\n",
            "1250/1250 [==============================] - 5s 4ms/step - loss: 0.1380 - accuracy: 0.9536 - val_loss: 0.1234 - val_accuracy: 0.9586\n",
            "Epoch 27/30\n",
            "1250/1250 [==============================] - 6s 5ms/step - loss: 0.1345 - accuracy: 0.9542 - val_loss: 0.1239 - val_accuracy: 0.9584\n",
            "Epoch 28/30\n",
            "1250/1250 [==============================] - 6s 5ms/step - loss: 0.1380 - accuracy: 0.9539 - val_loss: 0.1370 - val_accuracy: 0.9520\n",
            "Epoch 29/30\n",
            "1250/1250 [==============================] - 5s 4ms/step - loss: 0.1322 - accuracy: 0.9563 - val_loss: 0.1473 - val_accuracy: 0.9429\n",
            "Epoch 30/30\n",
            "1250/1250 [==============================] - 7s 6ms/step - loss: 0.1273 - accuracy: 0.9586 - val_loss: 0.1303 - val_accuracy: 0.9505\n"
          ]
        }
      ]
    },
    {
      "cell_type": "code",
      "source": [
        "y_pred=ann.predict(x_test)\n",
        "# y_pred=model.predict(x_test)\n",
        "y_pred1=y_pred>0.5"
      ],
      "metadata": {
        "colab": {
          "base_uri": "https://localhost:8080/"
        },
        "id": "JvBuGwjySFYX",
        "outputId": "6b3767d9-70ea-4437-e0bd-2fd3cd94d8df"
      },
      "execution_count": 12,
      "outputs": [
        {
          "output_type": "stream",
          "name": "stdout",
          "text": [
            "625/625 [==============================] - 2s 2ms/step\n"
          ]
        }
      ]
    },
    {
      "cell_type": "code",
      "source": [
        "cm=confusion_matrix(y_test,y_pred1)\n",
        "cm"
      ],
      "metadata": {
        "colab": {
          "base_uri": "https://localhost:8080/"
        },
        "id": "ACR32AxQSGDZ",
        "outputId": "9cf0ca55-c60d-46c4-d52b-c1ce920d9b54"
      },
      "execution_count": 13,
      "outputs": [
        {
          "output_type": "execute_result",
          "data": {
            "text/plain": [
              "array([[17796,   504],\n",
              "       [  487,  1213]])"
            ]
          },
          "metadata": {},
          "execution_count": 13
        }
      ]
    },
    {
      "cell_type": "code",
      "source": [
        "disp=ConfusionMatrixDisplay(confusion_matrix=cm)\n",
        "disp.plot()\n",
        "plt.grid(False)\n",
        "plt.show()"
      ],
      "metadata": {
        "colab": {
          "base_uri": "https://localhost:8080/",
          "height": 449
        },
        "id": "OKtXzyO8TkqC",
        "outputId": "763f6d2a-8a92-4f7a-c416-a148a58cb8ed"
      },
      "execution_count": 14,
      "outputs": [
        {
          "output_type": "display_data",
          "data": {
            "text/plain": [
              "<Figure size 640x480 with 2 Axes>"
            ],
            "image/png": "[encoded data removed]"
          },
          "metadata": {}
        }
      ]
    },
    {
      "cell_type": "code",
      "source": [
        "report=classification_report(y_test,y_pred1)\n",
        "print(report)"
      ],
      "metadata": {
        "colab": {
          "base_uri": "https://localhost:8080/"
        },
        "id": "P8boLYl2SItY",
        "outputId": "51909754-5b08-41d2-e46f-dd6bb12f40eb"
      },
      "execution_count": 15,
      "outputs": [
        {
          "output_type": "stream",
          "name": "stdout",
          "text": [
            "              precision    recall  f1-score   support\n",
            "\n",
            "           0       0.97      0.97      0.97     18300\n",
            "           1       0.71      0.71      0.71      1700\n",
            "\n",
            "    accuracy                           0.95     20000\n",
            "   macro avg       0.84      0.84      0.84     20000\n",
            "weighted avg       0.95      0.95      0.95     20000\n",
            "\n"
          ]
        }
      ]
    },
    {
      "cell_type": "code",
      "source": [
        "roc_auc_score(y_test,y_pred)"
      ],
      "metadata": {
        "colab": {
          "base_uri": "https://localhost:8080/"
        },
        "id": "5t9TwEvGYlg0",
        "outputId": "e8a903bf-87b2-4bed-d338-e6b6ceec507a"
      },
      "execution_count": 16,
      "outputs": [
        {
          "output_type": "execute_result",
          "data": {
            "text/plain": [
              "0.9576547733847637"
            ]
          },
          "metadata": {},
          "execution_count": 16
        }
      ]
    },
    {
      "cell_type": "code",
      "source": [
        "params={'n_estimators':1500,\n",
        "                    'boosting_type': 'gbdt',\n",
        "                    'objective': 'binary',\n",
        "                    'metric': 'auc',\n",
        "                    'subsample': 0.75,\n",
        "                    'subsample_freq': 1,\n",
        "                    'learning_rate': 0.01,\n",
        "                    'feature_fraction': 0.75,\n",
        "                    'num_leaves':32,\n",
        "                    'max_depth': 10,\n",
        "                    'lambda_l1': 1,\n",
        "                    'lambda_l2': 1,\n",
        "                    'early_stopping_rounds': 120,\n",
        "                    # 'scale_pos_weight' : 2,\n",
        "                    'verbose':1\n",
        "                    }"
      ],
      "metadata": {
        "id": "GuWZ34BrcYym"
      },
      "execution_count": 17,
      "outputs": []
    },
    {
      "cell_type": "code",
      "source": [
        "train_data = lgb.Dataset(x_train, label=y_train)\n",
        "valid_data = lgb.Dataset(x_test, label=y_test, reference=train_data)"
      ],
      "metadata": {
        "id": "60PRCGi0dRwu"
      },
      "execution_count": 18,
      "outputs": []
    },
    {
      "cell_type": "code",
      "source": [
        "lgbm1=lgb.train(params,train_data,valid_sets=[valid_data],valid_names=['valid'])"
      ],
      "metadata": {
        "colab": {
          "base_uri": "https://localhost:8080/"
        },
        "id": "-7dM2bwadUtt",
        "outputId": "b72fc5a6-f1bd-4421-8989-6b72679d4700"
      },
      "execution_count": 19,
      "outputs": [
        {
          "output_type": "stream",
          "name": "stdout",
          "text": [
            "[LightGBM] [Info] Number of positive: 6800, number of negative: 73200\n",
            "[LightGBM] [Info] Auto-choosing col-wise multi-threading, the overhead of testing was 0.010917 seconds.\n",
            "You can set `force_col_wise=true` to remove the overhead.\n",
            "[LightGBM] [Info] Total Bins 406\n",
            "[LightGBM] [Info] Number of data points in the train set: 80000, number of used features: 8\n",
            "[LightGBM] [Info] [binary:BoostFromScore]: pavg=0.085000 -> initscore=-2.376273\n",
            "[LightGBM] [Info] Start training from score -2.376273\n"
          ]
        },
        {
          "output_type": "stream",
          "name": "stderr",
          "text": [
            "/usr/local/lib/python3.10/dist-packages/lightgbm/engine.py:204: UserWarning: Found `n_estimators` in params. Will use it instead of argument\n",
            "  _log_warning(f\"Found `{alias}` in params. Will use it instead of argument\")\n"
          ]
        },
        {
          "output_type": "stream",
          "name": "stdout",
          "text": [
            "Training until validation scores don't improve for 120 rounds\n",
            "[LightGBM] [Warning] No further splits with positive gain, best gain: -inf\n",
            "[LightGBM] [Warning] No further splits with positive gain, best gain: -inf\n",
            "[LightGBM] [Warning] No further splits with positive gain, best gain: -inf\n",
            "[LightGBM] [Warning] No further splits with positive gain, best gain: -inf\n",
            "[LightGBM] [Warning] No further splits with positive gain, best gain: -inf\n",
            "[LightGBM] [Warning] No further splits with positive gain, best gain: -inf\n",
            "[LightGBM] [Warning] No further splits with positive gain, best gain: -inf\n",
            "[LightGBM] [Warning] No further splits with positive gain, best gain: -inf\n",
            "[LightGBM] [Warning] No further splits with positive gain, best gain: -inf\n",
            "[LightGBM] [Warning] No further splits with positive gain, best gain: -inf\n",
            "[LightGBM] [Warning] No further splits with positive gain, best gain: -inf\n",
            "[LightGBM] [Warning] No further splits with positive gain, best gain: -inf\n",
            "[LightGBM] [Warning] No further splits with positive gain, best gain: -inf\n",
            "[LightGBM] [Warning] No further splits with positive gain, best gain: -inf\n",
            "[LightGBM] [Warning] No further splits with positive gain, best gain: -inf\n",
            "[LightGBM] [Warning] No further splits with positive gain, best gain: -inf\n",
            "[LightGBM] [Warning] No further splits with positive gain, best gain: -inf\n",
            "[LightGBM] [Warning] No further splits with positive gain, best gain: -inf\n",
            "[LightGBM] [Warning] No further splits with positive gain, best gain: -inf\n",
            "[LightGBM] [Warning] No further splits with positive gain, best gain: -inf\n",
            "[LightGBM] [Warning] No further splits with positive gain, best gain: -inf\n",
            "[LightGBM] [Warning] No further splits with positive gain, best gain: -inf\n",
            "[LightGBM] [Warning] No further splits with positive gain, best gain: -inf\n",
            "Early stopping, best iteration is:\n",
            "[705]\tvalid's auc: 0.977212\n"
          ]
        }
      ]
    },
    {
      "cell_type": "code",
      "source": [
        "y_pred=lgbm1.predict(x_test)"
      ],
      "metadata": {
        "id": "uHGfuiYBd4Fg"
      },
      "execution_count": 20,
      "outputs": []
    },
    {
      "cell_type": "code",
      "source": [
        "y_pred1=y_pred>0.5\n",
        "cm1=confusion_matrix(y_test,y_pred1)\n",
        "cm1"
      ],
      "metadata": {
        "colab": {
          "base_uri": "https://localhost:8080/"
        },
        "id": "Ibbis8qYeCIG",
        "outputId": "fb9aec2d-4bb5-4ba0-c27d-6ed6b027bd84"
      },
      "execution_count": 21,
      "outputs": [
        {
          "output_type": "execute_result",
          "data": {
            "text/plain": [
              "array([[18284,    16],\n",
              "       [  542,  1158]])"
            ]
          },
          "metadata": {},
          "execution_count": 21
        }
      ]
    },
    {
      "cell_type": "code",
      "source": [
        "disp=ConfusionMatrixDisplay(confusion_matrix=cm1)\n",
        "disp.plot()\n",
        "plt.grid(False)\n",
        "plt.show()"
      ],
      "metadata": {
        "colab": {
          "base_uri": "https://localhost:8080/",
          "height": 449
        },
        "id": "LmROqCj3Ssx_",
        "outputId": "2b6b329c-2ad3-407c-c9b4-0f6ec3802dfb"
      },
      "execution_count": 22,
      "outputs": [
        {
          "output_type": "display_data",
          "data": {
            "text/plain": [
              "<Figure size 640x480 with 2 Axes>"
            ],
            "image/png": "[encoded data removed]"
          },
          "metadata": {}
        }
      ]
    },
    {
      "cell_type": "code",
      "source": [
        "report=classification_report(y_test,y_pred1)\n",
        "print(report)"
      ],
      "metadata": {
        "colab": {
          "base_uri": "https://localhost:8080/"
        },
        "id": "hEZ2sAqdeNsS",
        "outputId": "15f00239-d925-41c1-f574-a4b5b0b4fac3"
      },
      "execution_count": 23,
      "outputs": [
        {
          "output_type": "stream",
          "name": "stdout",
          "text": [
            "              precision    recall  f1-score   support\n",
            "\n",
            "           0       0.97      1.00      0.98     18300\n",
            "           1       0.99      0.68      0.81      1700\n",
            "\n",
            "    accuracy                           0.97     20000\n",
            "   macro avg       0.98      0.84      0.90     20000\n",
            "weighted avg       0.97      0.97      0.97     20000\n",
            "\n"
          ]
        }
      ]
    },
    {
      "cell_type": "code",
      "source": [
        "roc_auc_score(y_test,y_pred)"
      ],
      "metadata": {
        "id": "aOh7k8M5mQX_",
        "outputId": "e414afbb-e9b0-45a2-b123-2f908bf48619",
        "colab": {
          "base_uri": "https://localhost:8080/"
        }
      },
      "execution_count": 24,
      "outputs": [
        {
          "output_type": "execute_result",
          "data": {
            "text/plain": [
              "0.9772120861459338"
            ]
          },
          "metadata": {},
          "execution_count": 24
        }
      ]
    },
    {
      "cell_type": "code",
      "source": [
        "# STROKE PREDICTION STARTS"
      ],
      "metadata": {
        "id": "nsgXZHFPWG_J"
      },
      "execution_count": 25,
      "outputs": []
    },
    {
      "cell_type": "code",
      "source": [
        "df1=pd.read_csv('stroke_data.csv')"
      ],
      "metadata": {
        "id": "2gdUy7NofBwB"
      },
      "execution_count": 26,
      "outputs": []
    },
    {
      "cell_type": "code",
      "source": [
        "df1.isnull().sum()"
      ],
      "metadata": {
        "colab": {
          "base_uri": "https://localhost:8080/"
        },
        "id": "Wcrv5ErQfG5U",
        "outputId": "3a5aba4d-b948-472b-8629-605c355a491e"
      },
      "execution_count": 27,
      "outputs": [
        {
          "output_type": "execute_result",
          "data": {
            "text/plain": [
              "sex                  3\n",
              "age                  0\n",
              "hypertension         0\n",
              "heart_disease        0\n",
              "ever_married         0\n",
              "work_type            0\n",
              "Residence_type       0\n",
              "avg_glucose_level    0\n",
              "bmi                  0\n",
              "smoking_status       0\n",
              "stroke               0\n",
              "dtype: int64"
            ]
          },
          "metadata": {},
          "execution_count": 27
        }
      ]
    },
    {
      "cell_type": "code",
      "source": [
        "# encode_col=['gender','ever_married','work_type','Residence_type','smoking_status']\n",
        "# for a in encode_col:\n",
        "#   print(a)\n",
        "#   le=LabelEncoder()\n",
        "#   d1=le.fit_transform(df1[a])\n",
        "#   df1[a]=d1\n"
      ],
      "metadata": {
        "id": "p1a2TDPGfJGn"
      },
      "execution_count": 28,
      "outputs": []
    },
    {
      "cell_type": "code",
      "source": [
        "# x1=df1.drop(['id','stroke'],axis=1)\n",
        "x1=df1.drop(['stroke'],axis=1)\n",
        "y1=df1.stroke"
      ],
      "metadata": {
        "id": "1dt826BSfkP3"
      },
      "execution_count": 29,
      "outputs": []
    },
    {
      "cell_type": "code",
      "source": [
        "x1_train,x1_test,y1_train,y1_test = train_test_split(x1,y1,test_size=0.2,stratify=y1,shuffle=True)"
      ],
      "metadata": {
        "id": "l1pLCixFf9lZ"
      },
      "execution_count": 30,
      "outputs": []
    },
    {
      "cell_type": "code",
      "source": [
        "mm=MinMaxScaler(feature_range=(0,1))\n",
        "x1_train=mm.fit_transform(x1_train)\n",
        "x1_test=mm.transform(x1_test)"
      ],
      "metadata": {
        "id": "X3aV3kJ2sSqY"
      },
      "execution_count": 31,
      "outputs": []
    },
    {
      "cell_type": "code",
      "source": [
        "params={'n_estimators':1500,\n",
        "                    'boosting_type': 'gbdt',\n",
        "                    'objective': 'binary',\n",
        "                    'metric': 'auc',\n",
        "                    'subsample': 0.75,\n",
        "                    'subsample_freq': 1,\n",
        "                    'learning_rate': 0.01,\n",
        "                    'feature_fraction': 0.75,\n",
        "                    'num_leaves':32,\n",
        "                    'max_depth': 10,\n",
        "                    'lambda_l1': 1,\n",
        "                    'lambda_l2': 1,\n",
        "                    'early_stopping_rounds': 120,\n",
        "                    # 'scale_pos_weight' : 2,\n",
        "                    'verbose':1\n",
        "                    }"
      ],
      "metadata": {
        "id": "0ZPQDCuVgC4_"
      },
      "execution_count": 32,
      "outputs": []
    },
    {
      "cell_type": "code",
      "source": [
        "train1_data = lgb.Dataset(x1_train, label=y1_train)\n",
        "valid1_data = lgb.Dataset(x1_test, label=y1_test, reference=train1_data)"
      ],
      "metadata": {
        "id": "h89t1Ri3gLNi"
      },
      "execution_count": 33,
      "outputs": []
    },
    {
      "cell_type": "code",
      "source": [
        "lgbm=lgb.train(params,train1_data,valid_sets=[valid1_data],valid_names=['valid'])"
      ],
      "metadata": {
        "colab": {
          "base_uri": "https://localhost:8080/"
        },
        "id": "XtXtbUeFgQWL",
        "outputId": "fd962ada-cc24-4b51-9889-396c810c8493"
      },
      "execution_count": 34,
      "outputs": [
        {
          "output_type": "stream",
          "name": "stderr",
          "text": [
            "/usr/local/lib/python3.10/dist-packages/lightgbm/engine.py:204: UserWarning: Found `n_estimators` in params. Will use it instead of argument\n",
            "  _log_warning(f\"Found `{alias}` in params. Will use it instead of argument\")\n"
          ]
        },
        {
          "output_type": "stream",
          "name": "stdout",
          "text": [
            "[LightGBM] [Info] Number of positive: 16368, number of negative: 16360\n",
            "[LightGBM] [Info] Auto-choosing row-wise multi-threading, the overhead of testing was 0.002158 seconds.\n",
            "You can set `force_row_wise=true` to remove the overhead.\n",
            "And if memory is not enough, you can set `force_col_wise=true`.\n",
            "[LightGBM] [Info] Total Bins 627\n",
            "[LightGBM] [Info] Number of data points in the train set: 32728, number of used features: 10\n",
            "[LightGBM] [Info] [binary:BoostFromScore]: pavg=0.500122 -> initscore=0.000489\n",
            "[LightGBM] [Info] Start training from score 0.000489\n",
            "Training until validation scores don't improve for 120 rounds\n",
            "[LightGBM] [Warning] No further splits with positive gain, best gain: -inf\n",
            "[LightGBM] [Warning] No further splits with positive gain, best gain: -inf\n",
            "[LightGBM] [Warning] No further splits with positive gain, best gain: -inf\n",
            "[LightGBM] [Warning] No further splits with positive gain, best gain: -inf\n",
            "[LightGBM] [Warning] No further splits with positive gain, best gain: -inf\n",
            "[LightGBM] [Warning] No further splits with positive gain, best gain: -inf\n",
            "[LightGBM] [Warning] No further splits with positive gain, best gain: -inf\n",
            "[LightGBM] [Warning] No further splits with positive gain, best gain: -inf\n",
            "[LightGBM] [Warning] No further splits with positive gain, best gain: -inf\n",
            "[LightGBM] [Warning] No further splits with positive gain, best gain: -inf\n",
            "[LightGBM] [Warning] No further splits with positive gain, best gain: -inf\n",
            "[LightGBM] [Warning] No further splits with positive gain, best gain: -inf\n",
            "[LightGBM] [Warning] No further splits with positive gain, best gain: -inf\n",
            "[LightGBM] [Warning] No further splits with positive gain, best gain: -inf\n",
            "[LightGBM] [Warning] No further splits with positive gain, best gain: -inf\n",
            "[LightGBM] [Warning] No further splits with positive gain, best gain: -inf\n",
            "[LightGBM] [Warning] No further splits with positive gain, best gain: -inf\n",
            "[LightGBM] [Warning] No further splits with positive gain, best gain: -inf\n",
            "[LightGBM] [Warning] No further splits with positive gain, best gain: -inf\n",
            "[LightGBM] [Warning] No further splits with positive gain, best gain: -inf\n",
            "[LightGBM] [Warning] No further splits with positive gain, best gain: -inf\n",
            "[LightGBM] [Warning] No further splits with positive gain, best gain: -inf\n",
            "[LightGBM] [Warning] No further splits with positive gain, best gain: -inf\n",
            "[LightGBM] [Warning] No further splits with positive gain, best gain: -inf\n",
            "[LightGBM] [Warning] No further splits with positive gain, best gain: -inf\n",
            "[LightGBM] [Warning] No further splits with positive gain, best gain: -inf\n",
            "[LightGBM] [Warning] No further splits with positive gain, best gain: -inf\n",
            "[LightGBM] [Warning] No further splits with positive gain, best gain: -inf\n",
            "[LightGBM] [Warning] No further splits with positive gain, best gain: -inf\n",
            "[LightGBM] [Warning] No further splits with positive gain, best gain: -inf\n",
            "[LightGBM] [Warning] No further splits with positive gain, best gain: -inf\n",
            "[LightGBM] [Warning] No further splits with positive gain, best gain: -inf\n",
            "[LightGBM] [Warning] No further splits with positive gain, best gain: -inf\n",
            "[LightGBM] [Warning] No further splits with positive gain, best gain: -inf\n",
            "[LightGBM] [Warning] No further splits with positive gain, best gain: -inf\n",
            "[LightGBM] [Warning] No further splits with positive gain, best gain: -inf\n",
            "[LightGBM] [Warning] No further splits with positive gain, best gain: -inf\n",
            "[LightGBM] [Warning] No further splits with positive gain, best gain: -inf\n",
            "[LightGBM] [Warning] No further splits with positive gain, best gain: -inf\n",
            "[LightGBM] [Warning] No further splits with positive gain, best gain: -inf\n",
            "[LightGBM] [Warning] No further splits with positive gain, best gain: -inf\n",
            "[LightGBM] [Warning] No further splits with positive gain, best gain: -inf\n",
            "[LightGBM] [Warning] No further splits with positive gain, best gain: -inf\n",
            "[LightGBM] [Warning] No further splits with positive gain, best gain: -inf\n",
            "[LightGBM] [Warning] No further splits with positive gain, best gain: -inf\n",
            "[LightGBM] [Warning] No further splits with positive gain, best gain: -inf\n",
            "[LightGBM] [Warning] No further splits with positive gain, best gain: -inf\n",
            "[LightGBM] [Warning] No further splits with positive gain, best gain: -inf\n",
            "[LightGBM] [Warning] No further splits with positive gain, best gain: -inf\n",
            "[LightGBM] [Warning] No further splits with positive gain, best gain: -inf\n",
            "[LightGBM] [Warning] No further splits with positive gain, best gain: -inf\n",
            "[LightGBM] [Warning] No further splits with positive gain, best gain: -inf\n",
            "[LightGBM] [Warning] No further splits with positive gain, best gain: -inf\n",
            "[LightGBM] [Warning] No further splits with positive gain, best gain: -inf\n",
            "[LightGBM] [Warning] No further splits with positive gain, best gain: -inf\n",
            "[LightGBM] [Warning] No further splits with positive gain, best gain: -inf\n",
            "[LightGBM] [Warning] No further splits with positive gain, best gain: -inf\n",
            "[LightGBM] [Warning] No further splits with positive gain, best gain: -inf\n",
            "[LightGBM] [Warning] No further splits with positive gain, best gain: -inf\n",
            "[LightGBM] [Warning] No further splits with positive gain, best gain: -inf\n",
            "[LightGBM] [Warning] No further splits with positive gain, best gain: -inf\n",
            "[LightGBM] [Warning] No further splits with positive gain, best gain: -inf\n",
            "[LightGBM] [Warning] No further splits with positive gain, best gain: -inf\n",
            "[LightGBM] [Warning] No further splits with positive gain, best gain: -inf\n",
            "[LightGBM] [Warning] No further splits with positive gain, best gain: -inf\n",
            "[LightGBM] [Warning] No further splits with positive gain, best gain: -inf\n",
            "[LightGBM] [Warning] No further splits with positive gain, best gain: -inf\n",
            "[LightGBM] [Warning] No further splits with positive gain, best gain: -inf\n",
            "[LightGBM] [Warning] No further splits with positive gain, best gain: -inf\n",
            "[LightGBM] [Warning] No further splits with positive gain, best gain: -inf\n",
            "[LightGBM] [Warning] No further splits with positive gain, best gain: -inf\n",
            "[LightGBM] [Warning] No further splits with positive gain, best gain: -inf\n",
            "[LightGBM] [Warning] No further splits with positive gain, best gain: -inf\n",
            "[LightGBM] [Warning] No further splits with positive gain, best gain: -inf\n",
            "[LightGBM] [Warning] No further splits with positive gain, best gain: -inf\n",
            "[LightGBM] [Warning] No further splits with positive gain, best gain: -inf\n",
            "[LightGBM] [Warning] No further splits with positive gain, best gain: -inf\n",
            "[LightGBM] [Warning] No further splits with positive gain, best gain: -inf\n",
            "[LightGBM] [Warning] No further splits with positive gain, best gain: -inf\n",
            "[LightGBM] [Warning] No further splits with positive gain, best gain: -inf\n",
            "[LightGBM] [Warning] No further splits with positive gain, best gain: -inf\n",
            "[LightGBM] [Warning] No further splits with positive gain, best gain: -inf\n",
            "[LightGBM] [Warning] No further splits with positive gain, best gain: -inf\n",
            "[LightGBM] [Warning] No further splits with positive gain, best gain: -inf\n",
            "[LightGBM] [Warning] No further splits with positive gain, best gain: -inf\n",
            "[LightGBM] [Warning] No further splits with positive gain, best gain: -inf\n",
            "[LightGBM] [Warning] No further splits with positive gain, best gain: -inf\n",
            "[LightGBM] [Warning] No further splits with positive gain, best gain: -inf\n",
            "[LightGBM] [Warning] No further splits with positive gain, best gain: -inf\n",
            "[LightGBM] [Warning] No further splits with positive gain, best gain: -inf\n",
            "Did not meet early stopping. Best iteration is:\n",
            "[1500]\tvalid's auc: 0.999208\n"
          ]
        }
      ]
    },
    {
      "cell_type": "code",
      "source": [
        "y1_pred=lgbm.predict(x1_test)\n",
        "y1_pred1=y1_pred>0.5"
      ],
      "metadata": {
        "id": "W3EOF65Fgf79"
      },
      "execution_count": 35,
      "outputs": []
    },
    {
      "cell_type": "code",
      "source": [
        "cm2=confusion_matrix(y1_test,y1_pred1)\n",
        "cm2"
      ],
      "metadata": {
        "colab": {
          "base_uri": "https://localhost:8080/"
        },
        "id": "VlOG5xQxhIlz",
        "outputId": "3acd7a4a-1d19-4f3c-cfd7-52583235ca44"
      },
      "execution_count": 36,
      "outputs": [
        {
          "output_type": "execute_result",
          "data": {
            "text/plain": [
              "array([[3976,  114],\n",
              "       [   0, 4092]])"
            ]
          },
          "metadata": {},
          "execution_count": 36
        }
      ]
    },
    {
      "cell_type": "code",
      "source": [
        "disp=ConfusionMatrixDisplay(confusion_matrix=cm2)\n",
        "disp.plot()\n",
        "plt.grid(False)\n",
        "plt.show()"
      ],
      "metadata": {
        "colab": {
          "base_uri": "https://localhost:8080/",
          "height": 449
        },
        "id": "JZeQKwA7TMt1",
        "outputId": "9377efd3-cc96-4ac0-e80c-37f5926fb3db"
      },
      "execution_count": 37,
      "outputs": [
        {
          "output_type": "display_data",
          "data": {
            "text/plain": [
              "<Figure size 640x480 with 2 Axes>"
            ],
            "image/png": "[encoded data removed]"
          },
          "metadata": {}
        }
      ]
    },
    {
      "cell_type": "code",
      "source": [
        "report=classification_report(y1_test,y1_pred1)\n",
        "print(report)"
      ],
      "metadata": {
        "colab": {
          "base_uri": "https://localhost:8080/"
        },
        "id": "udDs0Lphg4vT",
        "outputId": "0f7ffe1a-7d3a-4f47-d28d-e26f7a3ecbfe"
      },
      "execution_count": 38,
      "outputs": [
        {
          "output_type": "stream",
          "name": "stdout",
          "text": [
            "              precision    recall  f1-score   support\n",
            "\n",
            "           0       1.00      0.97      0.99      4090\n",
            "           1       0.97      1.00      0.99      4092\n",
            "\n",
            "    accuracy                           0.99      8182\n",
            "   macro avg       0.99      0.99      0.99      8182\n",
            "weighted avg       0.99      0.99      0.99      8182\n",
            "\n"
          ]
        }
      ]
    },
    {
      "cell_type": "code",
      "source": [
        "roc_auc_score(y1_test,y1_pred)\n"
      ],
      "metadata": {
        "colab": {
          "base_uri": "https://localhost:8080/"
        },
        "id": "5zzF3Z1zlEQE",
        "outputId": "8bb35833-b773-477c-b200-92b9fc2f9dbf"
      },
      "execution_count": 39,
      "outputs": [
        {
          "output_type": "execute_result",
          "data": {
            "text/plain": [
              "0.9992077092400462"
            ]
          },
          "metadata": {},
          "execution_count": 39
        }
      ]
    },
    {
      "cell_type": "code",
      "source": [],
      "metadata": {
        "id": "xbKHw_I4aeKc"
      },
      "execution_count": 39,
      "outputs": []
    },
    {
      "cell_type": "code",
      "source": [
        "ann1=tf.keras.models.Sequential()\n",
        "ann1.add(tf.keras.layers.Dense(units=64,input_dim=x1_train.shape[1],activation='relu'))\n",
        "ann1.add(tf.keras.layers.Dense(units=128,activation='relu'))\n",
        "ann1.add(tf.keras.layers.Dense(units=64,activation='relu'))\n",
        "ann1.add(tf.keras.layers.Dense(units=196,activation='relu'))\n",
        "ann1.add(tf.keras.layers.BatchNormalization())\n",
        "ann1.add(tf.keras.layers.Dense(units=32,activation='relu'))\n",
        "ann1.add(tf.keras.layers.Dense(units=1,activation='sigmoid'))  #output layer\n",
        "ann1.compile(optimizer=Adam(learning_rate=0.05),loss='binary_crossentropy',metrics=['accuracy'])"
      ],
      "metadata": {
        "id": "OzCrAkQmV18k"
      },
      "execution_count": 40,
      "outputs": []
    },
    {
      "cell_type": "code",
      "source": [
        "prediction=ann1.fit(x1_train,y1_train,batch_size=64,epochs=30,validation_data=(x1_test,y1_test))"
      ],
      "metadata": {
        "colab": {
          "base_uri": "https://localhost:8080/"
        },
        "id": "ZKg5xE0fWXiD",
        "outputId": "eab8b4b1-1cac-4b55-a73f-f9126962809c"
      },
      "execution_count": 41,
      "outputs": [
        {
          "output_type": "stream",
          "name": "stdout",
          "text": [
            "Epoch 1/30\n",
            "512/512 [==============================] - 5s 5ms/step - loss: nan - accuracy: 0.5842 - val_loss: nan - val_accuracy: 0.4999\n",
            "Epoch 2/30\n",
            "512/512 [==============================] - 2s 4ms/step - loss: nan - accuracy: 0.4999 - val_loss: nan - val_accuracy: 0.4999\n",
            "Epoch 3/30\n",
            "512/512 [==============================] - 2s 4ms/step - loss: nan - accuracy: 0.4999 - val_loss: nan - val_accuracy: 0.4999\n",
            "Epoch 4/30\n",
            "512/512 [==============================] - 2s 5ms/step - loss: nan - accuracy: 0.4999 - val_loss: nan - val_accuracy: 0.4999\n",
            "Epoch 5/30\n",
            "512/512 [==============================] - 4s 8ms/step - loss: nan - accuracy: 0.4999 - val_loss: nan - val_accuracy: 0.4999\n",
            "Epoch 6/30\n",
            "512/512 [==============================] - 2s 4ms/step - loss: nan - accuracy: 0.4999 - val_loss: nan - val_accuracy: 0.4999\n",
            "Epoch 7/30\n",
            "512/512 [==============================] - 2s 5ms/step - loss: nan - accuracy: 0.4999 - val_loss: nan - val_accuracy: 0.4999\n",
            "Epoch 8/30\n",
            "512/512 [==============================] - 2s 4ms/step - loss: nan - accuracy: 0.4999 - val_loss: nan - val_accuracy: 0.4999\n",
            "Epoch 9/30\n",
            "512/512 [==============================] - 2s 4ms/step - loss: nan - accuracy: 0.4999 - val_loss: nan - val_accuracy: 0.4999\n",
            "Epoch 10/30\n",
            "512/512 [==============================] - 3s 7ms/step - loss: nan - accuracy: 0.4999 - val_loss: nan - val_accuracy: 0.4999\n",
            "Epoch 11/30\n",
            "512/512 [==============================] - 3s 5ms/step - loss: nan - accuracy: 0.4999 - val_loss: nan - val_accuracy: 0.4999\n",
            "Epoch 12/30\n",
            "512/512 [==============================] - 2s 4ms/step - loss: nan - accuracy: 0.4999 - val_loss: nan - val_accuracy: 0.4999\n",
            "Epoch 13/30\n",
            "512/512 [==============================] - 2s 4ms/step - loss: nan - accuracy: 0.4999 - val_loss: nan - val_accuracy: 0.4999\n",
            "Epoch 14/30\n",
            "512/512 [==============================] - 2s 4ms/step - loss: nan - accuracy: 0.4999 - val_loss: nan - val_accuracy: 0.4999\n",
            "Epoch 15/30\n",
            "512/512 [==============================] - 3s 5ms/step - loss: nan - accuracy: 0.4999 - val_loss: nan - val_accuracy: 0.4999\n",
            "Epoch 16/30\n",
            "512/512 [==============================] - 3s 7ms/step - loss: nan - accuracy: 0.4999 - val_loss: nan - val_accuracy: 0.4999\n",
            "Epoch 17/30\n",
            "512/512 [==============================] - 2s 4ms/step - loss: nan - accuracy: 0.4999 - val_loss: nan - val_accuracy: 0.4999\n",
            "Epoch 18/30\n",
            "512/512 [==============================] - 2s 4ms/step - loss: nan - accuracy: 0.4999 - val_loss: nan - val_accuracy: 0.4999\n",
            "Epoch 19/30\n",
            "512/512 [==============================] - 2s 4ms/step - loss: nan - accuracy: 0.4999 - val_loss: nan - val_accuracy: 0.4999\n",
            "Epoch 20/30\n",
            "512/512 [==============================] - 2s 4ms/step - loss: nan - accuracy: 0.4999 - val_loss: nan - val_accuracy: 0.4999\n",
            "Epoch 21/30\n",
            "512/512 [==============================] - 4s 8ms/step - loss: nan - accuracy: 0.4999 - val_loss: nan - val_accuracy: 0.4999\n",
            "Epoch 22/30\n",
            "512/512 [==============================] - 2s 5ms/step - loss: nan - accuracy: 0.4999 - val_loss: nan - val_accuracy: 0.4999\n",
            "Epoch 23/30\n",
            "512/512 [==============================] - 2s 4ms/step - loss: nan - accuracy: 0.4999 - val_loss: nan - val_accuracy: 0.4999\n",
            "Epoch 24/30\n",
            "512/512 [==============================] - 2s 5ms/step - loss: nan - accuracy: 0.4999 - val_loss: nan - val_accuracy: 0.4999\n",
            "Epoch 25/30\n",
            "512/512 [==============================] - 2s 5ms/step - loss: nan - accuracy: 0.4999 - val_loss: nan - val_accuracy: 0.4999\n",
            "Epoch 26/30\n",
            "512/512 [==============================] - 3s 7ms/step - loss: nan - accuracy: 0.4999 - val_loss: nan - val_accuracy: 0.4999\n",
            "Epoch 27/30\n",
            "512/512 [==============================] - 2s 5ms/step - loss: nan - accuracy: 0.4999 - val_loss: nan - val_accuracy: 0.4999\n",
            "Epoch 28/30\n",
            "512/512 [==============================] - 2s 5ms/step - loss: nan - accuracy: 0.4999 - val_loss: nan - val_accuracy: 0.4999\n",
            "Epoch 29/30\n",
            "512/512 [==============================] - 2s 4ms/step - loss: nan - accuracy: 0.4999 - val_loss: nan - val_accuracy: 0.4999\n",
            "Epoch 30/30\n",
            "512/512 [==============================] - 2s 5ms/step - loss: nan - accuracy: 0.4999 - val_loss: nan - val_accuracy: 0.4999\n"
          ]
        }
      ]
    },
    {
      "cell_type": "code",
      "source": [
        "y1_pred=ann1.predict(x1_test)\n",
        "y1_pred1=y1_pred>0.5"
      ],
      "metadata": {
        "colab": {
          "base_uri": "https://localhost:8080/"
        },
        "outputId": "9bac7894-a70f-468f-8772-61aa51210460",
        "id": "P9deV5V9WXiR"
      },
      "execution_count": 42,
      "outputs": [
        {
          "output_type": "stream",
          "name": "stdout",
          "text": [
            "256/256 [==============================] - 1s 2ms/step\n"
          ]
        }
      ]
    },
    {
      "cell_type": "code",
      "source": [
        "cm3=confusion_matrix(y1_test,y1_pred1)\n",
        "cm3"
      ],
      "metadata": {
        "colab": {
          "base_uri": "https://localhost:8080/"
        },
        "outputId": "6e6cd2c7-9aec-4a89-b6ca-67e3d675e444",
        "id": "Jts16CelWXiS"
      },
      "execution_count": 43,
      "outputs": [
        {
          "output_type": "execute_result",
          "data": {
            "text/plain": [
              "array([[4090,    0],\n",
              "       [4092,    0]])"
            ]
          },
          "metadata": {},
          "execution_count": 43
        }
      ]
    },
    {
      "cell_type": "code",
      "source": [
        "disp=ConfusionMatrixDisplay(confusion_matrix=cm3)\n",
        "disp.plot()\n",
        "plt.grid(False)\n",
        "plt.show()"
      ],
      "metadata": {
        "colab": {
          "base_uri": "https://localhost:8080/",
          "height": 449
        },
        "id": "_qTI9YyOTYz5",
        "outputId": "01c036f1-74da-4043-c68e-10322225fe42"
      },
      "execution_count": 44,
      "outputs": [
        {
          "output_type": "display_data",
          "data": {
            "text/plain": [
              "<Figure size 640x480 with 2 Axes>"
            ],
            "image/png": "[encoded data removed]"
          },
          "metadata": {}
        }
      ]
    },
    {
      "cell_type": "code",
      "source": [
        "report=classification_report(y1_test,y1_pred1)\n",
        "print(report)"
      ],
      "metadata": {
        "colab": {
          "base_uri": "https://localhost:8080/"
        },
        "outputId": "72a6ea76-38b6-4df2-a237-da949126a59b",
        "id": "cs6YGQKwWXiS"
      },
      "execution_count": 45,
      "outputs": [
        {
          "output_type": "stream",
          "name": "stdout",
          "text": [
            "              precision    recall  f1-score   support\n",
            "\n",
            "           0       0.50      1.00      0.67      4090\n",
            "           1       0.00      0.00      0.00      4092\n",
            "\n",
            "    accuracy                           0.50      8182\n",
            "   macro avg       0.25      0.50      0.33      8182\n",
            "weighted avg       0.25      0.50      0.33      8182\n",
            "\n"
          ]
        },
        {
          "output_type": "stream",
          "name": "stderr",
          "text": [
            "/usr/local/lib/python3.10/dist-packages/sklearn/metrics/_classification.py:1471: UndefinedMetricWarning: Precision and F-score are ill-defined and being set to 0.0 in labels with no predicted samples. Use `zero_division` parameter to control this behavior.\n",
            "  _warn_prf(average, modifier, msg_start, len(result))\n",
            "/usr/local/lib/python3.10/dist-packages/sklearn/metrics/_classification.py:1471: UndefinedMetricWarning: Precision and F-score are ill-defined and being set to 0.0 in labels with no predicted samples. Use `zero_division` parameter to control this behavior.\n",
            "  _warn_prf(average, modifier, msg_start, len(result))\n",
            "/usr/local/lib/python3.10/dist-packages/sklearn/metrics/_classification.py:1471: UndefinedMetricWarning: Precision and F-score are ill-defined and being set to 0.0 in labels with no predicted samples. Use `zero_division` parameter to control this behavior.\n",
            "  _warn_prf(average, modifier, msg_start, len(result))\n"
          ]
        }
      ]
    }
  ]
}