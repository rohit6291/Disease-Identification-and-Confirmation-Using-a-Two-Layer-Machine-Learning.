{
  "cells": [
    {
      "cell_type": "code",
      "execution_count": null,
      "metadata": {
        "id": "md05Qa9084OQ"
      },
      "outputs": [],
      "source": [
        "import numpy as np\n",
        "import pandas as pd\n",
        "pd.set_option('display.max_columns', None)\n",
        "pd.set_option('display.max_rows', None)\n",
        "import seaborn as sns\n",
        "import missingno as mno\n",
        "import matplotlib.pyplot as plt\n",
        "from nltk.corpus import stopwords\n",
        "from nltk.tokenize import RegexpTokenizer\n",
        "import re\n",
        "import string\n",
        "import random\n",
        "from PIL import Image\n",
        "import requests\n",
        "from io import BytesIO\n",
        "from sklearn.metrics.pairwise import linear_kernel\n",
        "from sklearn.feature_extraction.text import CountVectorizer,TfidfVectorizer\n",
        "from sklearn.tree import DecisionTreeClassifier\n",
        "from sklearn.naive_bayes import GaussianNB\n",
        "from sklearn.neighbors import KNeighborsClassifier,KNeighborsRegressor\n",
        "from sklearn.model_selection import train_test_split,cross_val_score,StratifiedKFold\n",
        "from sklearn.preprocessing import StandardScaler,MinMaxScaler,LabelEncoder\n",
        "from sklearn.metrics import confusion_matrix,classification_report,f1_score,roc_auc_score,precision_score,recall_score,accuracy_score\n",
        "pd.set_option('display.max_columns', None)\n",
        "pd.set_option('display.max_rows', None)"
      ]
    },
    {
      "cell_type": "code",
      "execution_count": null,
      "metadata": {
        "colab": {
          "base_uri": "https://localhost:8080/",
          "height": 310
        },
        "id": "ciIIz5FR-wa3",
        "outputId": "0a6d40b7-8616-472f-85fb-4c55ba312b04"
      },
      "outputs": [
        {
          "output_type": "execute_result",
          "data": {
            "text/plain": [
              "        disease                                           symptoms  \\\n",
              "0           flu  fever,cough,sore throat,runny or stuffy nose,m...   \n",
              "1    bronchitis  cough,mucus production,shortness of breath,che...   \n",
              "2     pneumonia  fever,cough,shortness of breath,chest pain,fat...   \n",
              "3  heart attack  chest pain,shortness of breath,nausea,vomiting...   \n",
              "4        stroke  sudden numbness or weakness in the face, arm, ...   \n",
              "\n",
              "                                               cures  \\\n",
              "0           over-the-counter medications,rest,fluids   \n",
              "1  antibiotics,over-the-counter medications,rest,...   \n",
              "2  antibiotics,over-the-counter medications,rest,...   \n",
              "3                         emergency medical services   \n",
              "4                         emergency medical services   \n",
              "\n",
              "                        doctor     risk level  \n",
              "0    family doctor,urgent care      low (0.1%  \n",
              "1  family doctor,pulmonologist      low (0.5%  \n",
              "2  family doctor,pulmonologist  moderate (1%)  \n",
              "3                 cardiologist     high (20%)  \n",
              "4                 neurologist      high (15%)  "
            ],
            "text/html": [
              "\n",
              "  <div id=\"df-77662c34-615c-4320-bf95-13acbb0c9993\" class=\"colab-df-container\">\n",
              "    <div>\n",
              "<style scoped>\n",
              "    .dataframe tbody tr th:only-of-type {\n",
              "        vertical-align: middle;\n",
              "    }\n",
              "\n",
              "    .dataframe tbody tr th {\n",
              "        vertical-align: top;\n",
              "    }\n",
              "\n",
              "    .dataframe thead th {\n",
              "        text-align: right;\n",
              "    }\n",
              "</style>\n",
              "<table border=\"1\" class=\"dataframe\">\n",
              "  <thead>\n",
              "    <tr style=\"text-align: right;\">\n",
              "      <th></th>\n",
              "      <th>disease</th>\n",
              "      <th>symptoms</th>\n",
              "      <th>cures</th>\n",
              "      <th>doctor</th>\n",
              "      <th>risk level</th>\n",
              "    </tr>\n",
              "  </thead>\n",
              "  <tbody>\n",
              "    <tr>\n",
              "      <th>0</th>\n",
              "      <td>flu</td>\n",
              "      <td>fever,cough,sore throat,runny or stuffy nose,m...</td>\n",
              "      <td>over-the-counter medications,rest,fluids</td>\n",
              "      <td>family doctor,urgent care</td>\n",
              "      <td>low (0.1%</td>\n",
              "    </tr>\n",
              "    <tr>\n",
              "      <th>1</th>\n",
              "      <td>bronchitis</td>\n",
              "      <td>cough,mucus production,shortness of breath,che...</td>\n",
              "      <td>antibiotics,over-the-counter medications,rest,...</td>\n",
              "      <td>family doctor,pulmonologist</td>\n",
              "      <td>low (0.5%</td>\n",
              "    </tr>\n",
              "    <tr>\n",
              "      <th>2</th>\n",
              "      <td>pneumonia</td>\n",
              "      <td>fever,cough,shortness of breath,chest pain,fat...</td>\n",
              "      <td>antibiotics,over-the-counter medications,rest,...</td>\n",
              "      <td>family doctor,pulmonologist</td>\n",
              "      <td>moderate (1%)</td>\n",
              "    </tr>\n",
              "    <tr>\n",
              "      <th>3</th>\n",
              "      <td>heart attack</td>\n",
              "      <td>chest pain,shortness of breath,nausea,vomiting...</td>\n",
              "      <td>emergency medical services</td>\n",
              "      <td>cardiologist</td>\n",
              "      <td>high (20%)</td>\n",
              "    </tr>\n",
              "    <tr>\n",
              "      <th>4</th>\n",
              "      <td>stroke</td>\n",
              "      <td>sudden numbness or weakness in the face, arm, ...</td>\n",
              "      <td>emergency medical services</td>\n",
              "      <td>neurologist</td>\n",
              "      <td>high (15%)</td>\n",
              "    </tr>\n",
              "  </tbody>\n",
              "</table>\n",
              "</div>\n",
              "    <div class=\"colab-df-buttons\">\n",
              "\n",
              "  <div class=\"colab-df-container\">\n",
              "    <button class=\"colab-df-convert\" onclick=\"convertToInteractive('df-77662c34-615c-4320-bf95-13acbb0c9993')\"\n",
              "            title=\"Convert this dataframe to an interactive table.\"\n",
              "            style=\"display:none;\">\n",
              "\n",
              "  <svg xmlns=\"http://www.w3.org/2000/svg\" height=\"24px\" viewBox=\"0 -960 960 960\">\n",
              "    <path d=\"M120-120v-720h720v720H120Zm60-500h600v-160H180v160Zm220 220h160v-160H400v160Zm0 220h160v-160H400v160ZM180-400h160v-160H180v160Zm440 0h160v-160H620v160ZM180-180h160v-160H180v160Zm440 0h160v-160H620v160Z\"/>\n",
              "  </svg>\n",
              "    </button>\n",
              "\n",
              "  <style>\n",
              "    .colab-df-container {\n",
              "      display:flex;\n",
              "      gap: 12px;\n",
              "    }\n",
              "\n",
              "    .colab-df-convert {\n",
              "      background-color: #E8F0FE;\n",
              "      border: none;\n",
              "      border-radius: 50%;\n",
              "      cursor: pointer;\n",
              "      display: none;\n",
              "      fill: #1967D2;\n",
              "      height: 32px;\n",
              "      padding: 0 0 0 0;\n",
              "      width: 32px;\n",
              "    }\n",
              "\n",
              "    .colab-df-convert:hover {\n",
              "      background-color: #E2EBFA;\n",
              "      box-shadow: 0px 1px 2px rgba(60, 64, 67, 0.3), 0px 1px 3px 1px rgba(60, 64, 67, 0.15);\n",
              "      fill: #174EA6;\n",
              "    }\n",
              "\n",
              "    .colab-df-buttons div {\n",
              "      margin-bottom: 4px;\n",
              "    }\n",
              "\n",
              "    [theme=dark] .colab-df-convert {\n",
              "      background-color: #3B4455;\n",
              "      fill: #D2E3FC;\n",
              "    }\n",
              "\n",
              "    [theme=dark] .colab-df-convert:hover {\n",
              "      background-color: #434B5C;\n",
              "      box-shadow: 0px 1px 3px 1px rgba(0, 0, 0, 0.15);\n",
              "      filter: drop-shadow(0px 1px 2px rgba(0, 0, 0, 0.3));\n",
              "      fill: #FFFFFF;\n",
              "    }\n",
              "  </style>\n",
              "\n",
              "    <script>\n",
              "      const buttonEl =\n",
              "        document.querySelector('#df-77662c34-615c-4320-bf95-13acbb0c9993 button.colab-df-convert');\n",
              "      buttonEl.style.display =\n",
              "        google.colab.kernel.accessAllowed ? 'block' : 'none';\n",
              "\n",
              "      async function convertToInteractive(key) {\n",
              "        const element = document.querySelector('#df-77662c34-615c-4320-bf95-13acbb0c9993');\n",
              "        const dataTable =\n",
              "          await google.colab.kernel.invokeFunction('convertToInteractive',\n",
              "                                                    [key], {});\n",
              "        if (!dataTable) return;\n",
              "\n",
              "        const docLinkHtml = 'Like what you see? Visit the ' +\n",
              "          '<a target=\"_blank\" href=https://colab.research.google.com/notebooks/data_table.ipynb>data table notebook</a>'\n",
              "          + ' to learn more about interactive tables.';\n",
              "        element.innerHTML = '';\n",
              "        dataTable['output_type'] = 'display_data';\n",
              "        await google.colab.output.renderOutput(dataTable, element);\n",
              "        const docLink = document.createElement('div');\n",
              "        docLink.innerHTML = docLinkHtml;\n",
              "        element.appendChild(docLink);\n",
              "      }\n",
              "    </script>\n",
              "  </div>\n",
              "\n",
              "\n",
              "<div id=\"df-3a223922-37c2-4cb3-8555-4033c8c25e6a\">\n",
              "  <button class=\"colab-df-quickchart\" onclick=\"quickchart('df-3a223922-37c2-4cb3-8555-4033c8c25e6a')\"\n",
              "            title=\"Suggest charts.\"\n",
              "            style=\"display:none;\">\n",
              "\n",
              "<svg xmlns=\"http://www.w3.org/2000/svg\" height=\"24px\"viewBox=\"0 0 24 24\"\n",
              "     width=\"24px\">\n",
              "    <g>\n",
              "        <path d=\"M19 3H5c-1.1 0-2 .9-2 2v14c0 1.1.9 2 2 2h14c1.1 0 2-.9 2-2V5c0-1.1-.9-2-2-2zM9 17H7v-7h2v7zm4 0h-2V7h2v10zm4 0h-2v-4h2v4z\"/>\n",
              "    </g>\n",
              "</svg>\n",
              "  </button>\n",
              "\n",
              "<style>\n",
              "  .colab-df-quickchart {\n",
              "      --bg-color: #E8F0FE;\n",
              "      --fill-color: #1967D2;\n",
              "      --hover-bg-color: #E2EBFA;\n",
              "      --hover-fill-color: #174EA6;\n",
              "      --disabled-fill-color: #AAA;\n",
              "      --disabled-bg-color: #DDD;\n",
              "  }\n",
              "\n",
              "  [theme=dark] .colab-df-quickchart {\n",
              "      --bg-color: #3B4455;\n",
              "      --fill-color: #D2E3FC;\n",
              "      --hover-bg-color: #434B5C;\n",
              "      --hover-fill-color: #FFFFFF;\n",
              "      --disabled-bg-color: #3B4455;\n",
              "      --disabled-fill-color: #666;\n",
              "  }\n",
              "\n",
              "  .colab-df-quickchart {\n",
              "    background-color: var(--bg-color);\n",
              "    border: none;\n",
              "    border-radius: 50%;\n",
              "    cursor: pointer;\n",
              "    display: none;\n",
              "    fill: var(--fill-color);\n",
              "    height: 32px;\n",
              "    padding: 0;\n",
              "    width: 32px;\n",
              "  }\n",
              "\n",
              "  .colab-df-quickchart:hover {\n",
              "    background-color: var(--hover-bg-color);\n",
              "    box-shadow: 0 1px 2px rgba(60, 64, 67, 0.3), 0 1px 3px 1px rgba(60, 64, 67, 0.15);\n",
              "    fill: var(--button-hover-fill-color);\n",
              "  }\n",
              "\n",
              "  .colab-df-quickchart-complete:disabled,\n",
              "  .colab-df-quickchart-complete:disabled:hover {\n",
              "    background-color: var(--disabled-bg-color);\n",
              "    fill: var(--disabled-fill-color);\n",
              "    box-shadow: none;\n",
              "  }\n",
              "\n",
              "  .colab-df-spinner {\n",
              "    border: 2px solid var(--fill-color);\n",
              "    border-color: transparent;\n",
              "    border-bottom-color: var(--fill-color);\n",
              "    animation:\n",
              "      spin 1s steps(1) infinite;\n",
              "  }\n",
              "\n",
              "  @keyframes spin {\n",
              "    0% {\n",
              "      border-color: transparent;\n",
              "      border-bottom-color: var(--fill-color);\n",
              "      border-left-color: var(--fill-color);\n",
              "    }\n",
              "    20% {\n",
              "      border-color: transparent;\n",
              "      border-left-color: var(--fill-color);\n",
              "      border-top-color: var(--fill-color);\n",
              "    }\n",
              "    30% {\n",
              "      border-color: transparent;\n",
              "      border-left-color: var(--fill-color);\n",
              "      border-top-color: var(--fill-color);\n",
              "      border-right-color: var(--fill-color);\n",
              "    }\n",
              "    40% {\n",
              "      border-color: transparent;\n",
              "      border-right-color: var(--fill-color);\n",
              "      border-top-color: var(--fill-color);\n",
              "    }\n",
              "    60% {\n",
              "      border-color: transparent;\n",
              "      border-right-color: var(--fill-color);\n",
              "    }\n",
              "    80% {\n",
              "      border-color: transparent;\n",
              "      border-right-color: var(--fill-color);\n",
              "      border-bottom-color: var(--fill-color);\n",
              "    }\n",
              "    90% {\n",
              "      border-color: transparent;\n",
              "      border-bottom-color: var(--fill-color);\n",
              "    }\n",
              "  }\n",
              "</style>\n",
              "\n",
              "  <script>\n",
              "    async function quickchart(key) {\n",
              "      const quickchartButtonEl =\n",
              "        document.querySelector('#' + key + ' button');\n",
              "      quickchartButtonEl.disabled = true;  // To prevent multiple clicks.\n",
              "      quickchartButtonEl.classList.add('colab-df-spinner');\n",
              "      try {\n",
              "        const charts = await google.colab.kernel.invokeFunction(\n",
              "            'suggestCharts', [key], {});\n",
              "      } catch (error) {\n",
              "        console.error('Error during call to suggestCharts:', error);\n",
              "      }\n",
              "      quickchartButtonEl.classList.remove('colab-df-spinner');\n",
              "      quickchartButtonEl.classList.add('colab-df-quickchart-complete');\n",
              "    }\n",
              "    (() => {\n",
              "      let quickchartButtonEl =\n",
              "        document.querySelector('#df-3a223922-37c2-4cb3-8555-4033c8c25e6a button');\n",
              "      quickchartButtonEl.style.display =\n",
              "        google.colab.kernel.accessAllowed ? 'block' : 'none';\n",
              "    })();\n",
              "  </script>\n",
              "</div>\n",
              "    </div>\n",
              "  </div>\n"
            ]
          },
          "metadata": {},
          "execution_count": 125
        }
      ],
      "source": [
        "df=pd.read_csv(\"symptoms dataset.csv\")\n",
        "df.head()"
      ]
    },
    {
      "cell_type": "code",
      "execution_count": null,
      "metadata": {
        "id": "P1nHMKL9_wkP"
      },
      "outputs": [],
      "source": [
        "x=df[\"symptoms\"]\n",
        "y=df[\"disease\"]"
      ]
    },
    {
      "cell_type": "code",
      "execution_count": null,
      "metadata": {
        "colab": {
          "base_uri": "https://localhost:8080/"
        },
        "id": "WmW35DtLKPVe",
        "outputId": "8c9f35ae-94c5-48cf-f180-b344cf408bc0"
      },
      "outputs": [
        {
          "output_type": "execute_result",
          "data": {
            "text/plain": [
              "0     fever,cough,sore throat,runny or stuffy nose,m...\n",
              "1     cough,mucus production,shortness of breath,che...\n",
              "2     fever,cough,shortness of breath,chest pain,fat...\n",
              "3     chest pain,shortness of breath,nausea,vomiting...\n",
              "4     sudden numbness or weakness in the face, arm, ...\n",
              "5     lump,unexplained weight loss,fatigue,changes i...\n",
              "6     increased thirst,frequent urination,unexplaine...\n",
              "7     memory loss,confusion,difficulty thinking,chan...\n",
              "8     pain,stiffness,swelling,inflammation in the jo...\n",
              "9     fever,sore throat,cough,conjunctivitis,rash,pi...\n",
              "10        vomiting,diarrhea,jaundice,liver damage,death\n",
              "11    physical dependence on alcohol,tolerance to al...\n",
              "12    runny nose,sneezing,itchy eyes,itchy nose,thro...\n",
              "13    memory loss,confusion,difficulty thinking,chan...\n",
              "14    fatigue,shortness of breath,pale skin,lighthea...\n",
              "15    excessive worry,fear,anxiety that interfere wi...\n",
              "16    pain in the lower right abdomen,nausea,vomitin...\n",
              "17    pain,stiffness,swelling,inflammation in the jo...\n",
              "18    difficulty with social interaction,repetitive ...\n",
              "19    wheezing,shortness of breath,coughing,chest ti...\n",
              "20    fever,headache,stiff neck,nausea,vomiting,sens...\n",
              "21           extreme mood swings,from manito depression\n",
              "22    blood in the urine,pain or burning when urinat...\n",
              "23    pain,swelling,redness,warmth,tenderness in the...\n",
              "24    cough,mucus production,shortness of breath,che...\n",
              "25    pain,swelling,inflammation in bursa,which is s...\n",
              "26    lump,unexplained weight loss,fatigue,changes i...\n",
              "27    abnormal pap test results,abnormal vaginal ble...\n",
              "28             rash,fever,headache,muscle aches,fatigue\n",
              "29                         chronic bronchitis,emphysema\n",
              "30              high levels of cholesterol in the blood\n",
              "31     runny nose,sneezing,sore throat,cough,congestion\n",
              "32                                red,itchy,watery eyes\n",
              "33    sadness,hopelessness,loss of interest in activ...\n",
              "34                                  loose,watery stools\n",
              "35    disturbance in eating behavior that can lead t...\n",
              "36                                             seizures\n",
              "37                           elevated body temperature \n",
              "38            nausea,vomiting,diarrhea,abdominal cramps\n",
              "39    pain in the upper right abdomen,nausea,vomitin...\n",
              "40    sexually transmitted infection that can cause ...\n",
              "41    chest pain,shortness of breath,fatigue,dizzine...\n",
              "42                            inflammation of the liver\n",
              "43    sexually transmitted infection that can cause ...\n",
              "44    fever,cough,sore throat,runny or stuffy nose,m...\n",
              "45        abdominal pain,bloating,constipation,diarrhea\n",
              "46    pain in the lower back or side,nausea,vomiting...\n",
              "47    cough that does not go away,shortness of breat...\n",
              "48    fever,chills,sweating,headache,muscle aches,fa...\n",
              "49     fever,cough,runny nose,red eyes,sore throat,rash\n",
              "50    fever,headache,stiff neck,nausea,vomiting,sens...\n",
              "51    fever,sore throat,fatigue,swollen lymph nodes,...\n",
              "52    fever,cough,shortness of breath,chest pain,fat...\n",
              "53    fever,headache,muscle aches,tingling at the bi...\n",
              "54      fever,diarrhea,abdominal cramps,nausea,vomiting\n",
              "55                 painful rash that follows nerve path\n",
              "56    cough that does not go away,fever,night sweats...\n",
              "57    painful urination,burning,frequent urination,u...\n",
              "58            swollen,twisted veins,usually in the legs\n",
              "59                     raised,rough growths on the skin\n",
              "60     itching,burning,discharge from the vaginor penis\n",
              "61                 pain,redness,inflammation in the eye\n",
              "62    pain in the lower right abdomen,nausea,vomitin...\n",
              "63                            decreased kidney function\n",
              "64    memory loss,confusion,difficulty thinking,chan...\n",
              "65    fatigue,shortness of breath,pale skin,lighthea...\n",
              "66    bulge in the wall of the aorta,the largest art...\n",
              "67    fever,headache,stiff neck,nausea,vomiting,sens...\n",
              "68           extreme mood swings,from manito depression\n",
              "69    abnormal pap test results,abnormal vaginal ble...\n",
              "70    change in bowel habits,such as diarrhea,consti...\n",
              "71    memory loss,confusion,difficulty thinking,chan...\n",
              "72              difficulty getting,keeping an erection \n",
              "73                   widespread pain,fatigue,tenderness\n",
              "74    increased pressure in the eye that can damage ...\n",
              "75    condition in which the heart cannot pump blood...\n",
              "76    damage to the kidneys that can lead to kidney ...\n",
              "77    condition that affects the lungs,can make it d...\n",
              "78    tremors,slow movement,stiffness,difficulty wit...\n",
              "79    pain in the upper abdomen,indigestion,nausea,v...\n",
              "80           pain,numbness,tingling in the arms or legs\n",
              "81    fever,cough,shortness of breath,chest pain,fat...\n",
              "82    difficulty urinating,blood in the urine,pain i...\n",
              "83                pain,swelling,stiffness in the joints\n",
              "84    pain in the upper abdomen,indigestion,nausea,v...\n",
              "85    lump in the neck,hoarseness,fatigue,weight los...\n",
              "86     diarrhea,bloody stool,abdominal pain,weight loss\n",
              "87                     raised,rough growths on the skin\n",
              "88                              itchy,red,inflamed skin\n",
              "89    diarrhea,bloating,weight loss,fatigue,abdomina...\n",
              "90    fatigue,shortness of breath,swelling,high bloo...\n",
              "91     diarrhea,bloody stool,abdominal pain,weight loss\n",
              "92                                             seizures\n",
              "93                   widespread pain,fatigue,tenderness\n",
              "94       hyperthyroidism,which is an overactive thyroid\n",
              "95      hypothyroidism,which is an underactive thyroid \n",
              "96    chronic autoimmune disease that can affect any...\n",
              "Name: symptoms, dtype: object"
            ]
          },
          "metadata": {},
          "execution_count": 127
        }
      ],
      "source": [
        "x"
      ]
    },
    {
      "cell_type": "code",
      "execution_count": null,
      "metadata": {
        "id": "Wrv1bqsmAz0t"
      },
      "outputs": [],
      "source": [
        "# li={'symptoms':['chest pain,shortness of breath,nausea,vomiting,lightheadedness,sweating']}\n",
        "testset=pd.read_csv(\"Diabetes_Test.csv\")\n",
        "x_test=testset[\"Symptoms\"]\n",
        "y_test=testset[\"Disease\"]"
      ]
    },
    {
      "cell_type": "code",
      "execution_count": null,
      "metadata": {
        "id": "CWeV3rKwA3xP"
      },
      "outputs": [],
      "source": [
        "cv=TfidfVectorizer(max_features=200)\n",
        "# cv=CountVectorizer(max_features=200)\n",
        "x=cv.fit_transform(x).toarray()\n",
        "x_test=cv.transform(x_test).toarray()"
      ]
    },
    {
      "cell_type": "code",
      "source": [
        "# le=LabelEncoder()\n",
        "# y=le.fit_transform(y)\n",
        "# y_test=le.transform(y_test)"
      ],
      "metadata": {
        "id": "g0C8bPlOqi6w"
      },
      "execution_count": null,
      "outputs": []
    },
    {
      "cell_type": "code",
      "source": [
        "y_test"
      ],
      "metadata": {
        "colab": {
          "base_uri": "https://localhost:8080/"
        },
        "id": "NkJ9xcisrL2i",
        "outputId": "1b49a4e8-b60b-4af4-e6e4-e2a996c75ce9"
      },
      "execution_count": null,
      "outputs": [
        {
          "output_type": "execute_result",
          "data": {
            "text/plain": [
              "0     diabetes\n",
              "1     diabetes\n",
              "2     diabetes\n",
              "3     diabetes\n",
              "4     diabetes\n",
              "5     diabetes\n",
              "6     diabetes\n",
              "7     diabetes\n",
              "8     diabetes\n",
              "9     diabetes\n",
              "10    diabetes\n",
              "11    diabetes\n",
              "12    diabetes\n",
              "13    diabetes\n",
              "14    diabetes\n",
              "15    diabetes\n",
              "16    diabetes\n",
              "17    diabetes\n",
              "18    diabetes\n",
              "19    diabetes\n",
              "20    diabetes\n",
              "21    diabetes\n",
              "22    diabetes\n",
              "23    diabetes\n",
              "24    diabetes\n",
              "25    diabetes\n",
              "26    diabetes\n",
              "27    diabetes\n",
              "28    diabetes\n",
              "29    diabetes\n",
              "30    diabetes\n",
              "31    diabetes\n",
              "32    diabetes\n",
              "33    diabetes\n",
              "34    diabetes\n",
              "35    diabetes\n",
              "36    diabetes\n",
              "37    diabetes\n",
              "38    diabetes\n",
              "39    diabetes\n",
              "Name: Disease, dtype: object"
            ]
          },
          "metadata": {},
          "execution_count": 131
        }
      ]
    },
    {
      "cell_type": "code",
      "execution_count": null,
      "metadata": {
        "colab": {
          "base_uri": "https://localhost:8080/"
        },
        "id": "HSlY4LJ6L5fn",
        "outputId": "eee09caf-42bd-4816-d380-1d4b973e4667"
      },
      "outputs": [
        {
          "output_type": "execute_result",
          "data": {
            "text/plain": [
              "array([0.        , 0.        , 0.        , 0.        , 0.        ,\n",
              "       0.        , 0.        , 0.        , 0.        , 0.        ,\n",
              "       0.        , 0.        , 0.        , 0.        , 0.        ,\n",
              "       0.        , 0.        , 0.31875881, 0.        , 0.        ,\n",
              "       0.        , 0.        , 0.        , 0.        , 0.3354385 ,\n",
              "       0.        , 0.        , 0.        , 0.        , 0.        ,\n",
              "       0.        , 0.31129351, 0.        , 0.        , 0.        ,\n",
              "       0.        , 0.        , 0.        , 0.        , 0.        ,\n",
              "       0.        , 0.        , 0.        , 0.        , 0.        ,\n",
              "       0.        , 0.        , 0.        , 0.        , 0.        ,\n",
              "       0.        , 0.        , 0.        , 0.        , 0.        ,\n",
              "       0.        , 0.        , 0.        , 0.        , 0.        ,\n",
              "       0.        , 0.        , 0.        , 0.        , 0.        ,\n",
              "       0.        , 0.        , 0.        , 0.        , 0.        ,\n",
              "       0.        , 0.        , 0.        , 0.        , 0.        ,\n",
              "       0.        , 0.        , 0.        , 0.        , 0.        ,\n",
              "       0.48544088, 0.        , 0.        , 0.        , 0.        ,\n",
              "       0.        , 0.        , 0.        , 0.26043731, 0.        ,\n",
              "       0.        , 0.        , 0.21961263, 0.        , 0.        ,\n",
              "       0.        , 0.        , 0.        , 0.        , 0.        ,\n",
              "       0.        , 0.        , 0.        , 0.        , 0.        ,\n",
              "       0.        , 0.48544088, 0.        , 0.        , 0.        ,\n",
              "       0.        , 0.        , 0.        , 0.        , 0.        ,\n",
              "       0.        , 0.        , 0.        , 0.        , 0.        ,\n",
              "       0.        , 0.        , 0.        , 0.        , 0.        ,\n",
              "       0.        , 0.        , 0.31875881, 0.        , 0.        ,\n",
              "       0.        , 0.        , 0.        , 0.        , 0.        ,\n",
              "       0.        , 0.        , 0.        , 0.        , 0.        ,\n",
              "       0.        , 0.        , 0.        , 0.        , 0.        ,\n",
              "       0.        , 0.        , 0.        , 0.        , 0.        ,\n",
              "       0.        , 0.        , 0.        , 0.        , 0.        ,\n",
              "       0.        , 0.        , 0.        , 0.        , 0.        ,\n",
              "       0.        , 0.        , 0.        , 0.        , 0.        ,\n",
              "       0.        , 0.        , 0.        , 0.        , 0.        ,\n",
              "       0.        , 0.        , 0.        , 0.        , 0.        ,\n",
              "       0.        , 0.        , 0.        , 0.        , 0.        ,\n",
              "       0.        , 0.        , 0.        , 0.        , 0.        ,\n",
              "       0.        , 0.        , 0.        , 0.        , 0.        ,\n",
              "       0.        , 0.        , 0.        , 0.        , 0.        ,\n",
              "       0.        , 0.        , 0.        , 0.        , 0.        ])"
            ]
          },
          "metadata": {},
          "execution_count": 132
        }
      ],
      "source": [
        "x[1]"
      ]
    },
    {
      "cell_type": "code",
      "execution_count": null,
      "metadata": {
        "id": "JmFM0dL8F9hT"
      },
      "outputs": [],
      "source": [
        "# classifier=DecisionTreeClassifier()\n",
        "# classifier.fit(x,y)\n",
        "# y_pred=classifier.predict(x_test)\n",
        "# y_pred"
      ]
    },
    {
      "cell_type": "code",
      "execution_count": null,
      "metadata": {
        "id": "A3t8gEfrGH3P"
      },
      "outputs": [],
      "source": [
        "# classifier=GaussianNB()\n",
        "# classifier.fit(x,y)\n",
        "# y_pred=classifier.predict(x_test)\n",
        "# y_pred"
      ]
    },
    {
      "cell_type": "code",
      "source": [
        "classifier=KNeighborsClassifier(n_neighbors=3,metric='minkowski',weights='distance')\n",
        "classifier.fit(x,y)\n",
        "y_pred=classifier.predict(x_test)\n",
        "y_pred"
      ],
      "metadata": {
        "id": "3sumjXFMq22N",
        "colab": {
          "base_uri": "https://localhost:8080/"
        },
        "outputId": "d0e3611c-d192-4e7f-8a0f-5b01352207f2"
      },
      "execution_count": null,
      "outputs": [
        {
          "output_type": "execute_result",
          "data": {
            "text/plain": [
              "array(['diabetes', 'diabetes', 'diabetes', 'diabetes', 'diabetes',\n",
              "       'diabetes', 'diabetes', 'diabetes', 'diabetes', 'diabetes',\n",
              "       'diabetes', 'diabetes', 'diabetes', 'diabetes', 'diabetes',\n",
              "       'diabetes', 'diabetes', 'diabetes', 'diabetes', 'diabetes',\n",
              "       'diabetes', 'diabetes', 'diabetes', 'diabetes', 'diabetes',\n",
              "       'diabetes', 'diabetes', 'diabetes', 'diabetes', 'diabetes',\n",
              "       'diabetes', 'diabetes', 'diabetes', 'diabetes', 'diabetes',\n",
              "       'diabetes', 'diabetes', 'diabetes', 'diabetes', 'diabetes'],\n",
              "      dtype=object)"
            ]
          },
          "metadata": {},
          "execution_count": 153
        }
      ]
    },
    {
      "cell_type": "code",
      "source": [
        "# y_test"
      ],
      "metadata": {
        "id": "RVlVgoNnrv4B"
      },
      "execution_count": null,
      "outputs": []
    },
    {
      "cell_type": "code",
      "source": [
        "report=classification_report(y_test,y_pred)\n",
        "print(report)"
      ],
      "metadata": {
        "id": "N8ewquNMj1It",
        "colab": {
          "base_uri": "https://localhost:8080/"
        },
        "outputId": "4aadc015-6217-40a5-d8b7-4e85a844ff3b"
      },
      "execution_count": null,
      "outputs": [
        {
          "output_type": "stream",
          "name": "stdout",
          "text": [
            "              precision    recall  f1-score   support\n",
            "\n",
            "    diabetes       1.00      1.00      1.00        40\n",
            "\n",
            "    accuracy                           1.00        40\n",
            "   macro avg       1.00      1.00      1.00        40\n",
            "weighted avg       1.00      1.00      1.00        40\n",
            "\n"
          ]
        }
      ]
    },
    {
      "cell_type": "code",
      "source": [
        "confusion_matrix(y_test,y_pred)"
      ],
      "metadata": {
        "colab": {
          "base_uri": "https://localhost:8080/"
        },
        "id": "gQTVtPg6p1gz",
        "outputId": "686c96a1-3795-41e4-d2a5-70cf50577c39"
      },
      "execution_count": null,
      "outputs": [
        {
          "output_type": "execute_result",
          "data": {
            "text/plain": [
              "array([[40]])"
            ]
          },
          "metadata": {},
          "execution_count": 155
        }
      ]
    },
    {
      "cell_type": "code",
      "source": [
        "f1_score(y_test,y_pred,average='weighted')"
      ],
      "metadata": {
        "id": "to_FgtTwrsiU",
        "colab": {
          "base_uri": "https://localhost:8080/"
        },
        "outputId": "ed012d51-388f-41d8-b9a4-a0edeea630a4"
      },
      "execution_count": null,
      "outputs": [
        {
          "output_type": "execute_result",
          "data": {
            "text/plain": [
              "0.9041095890410957"
            ]
          },
          "metadata": {},
          "execution_count": 149
        }
      ]
    },
    {
      "cell_type": "code",
      "source": [
        "precision_score(y_test,y_pred,average='weighted')"
      ],
      "metadata": {
        "colab": {
          "base_uri": "https://localhost:8080/"
        },
        "id": "_w-DeC5lpcxJ",
        "outputId": "a3afd446-79a4-4e5a-dea2-09ed2aa100cf"
      },
      "execution_count": null,
      "outputs": [
        {
          "output_type": "execute_result",
          "data": {
            "text/plain": [
              "1.0"
            ]
          },
          "metadata": {},
          "execution_count": 150
        }
      ]
    },
    {
      "cell_type": "code",
      "source": [
        "recall_score(y_test,y_pred,average='weighted')"
      ],
      "metadata": {
        "colab": {
          "base_uri": "https://localhost:8080/"
        },
        "id": "MLnWsRKNpc2o",
        "outputId": "deee7429-63af-4eb1-b7ab-833ca96409cb"
      },
      "execution_count": null,
      "outputs": [
        {
          "output_type": "stream",
          "name": "stderr",
          "text": [
            "/usr/local/lib/python3.10/dist-packages/sklearn/metrics/_classification.py:1344: UndefinedMetricWarning: Recall is ill-defined and being set to 0.0 in labels with no true samples. Use `zero_division` parameter to control this behavior.\n",
            "  _warn_prf(average, modifier, msg_start, len(result))\n"
          ]
        },
        {
          "output_type": "execute_result",
          "data": {
            "text/plain": [
              "0.825"
            ]
          },
          "metadata": {},
          "execution_count": 151
        }
      ]
    },
    {
      "cell_type": "code",
      "source": [
        "accuracy_score(y_test,y_pred)"
      ],
      "metadata": {
        "colab": {
          "base_uri": "https://localhost:8080/"
        },
        "id": "6A0FUWpEpc79",
        "outputId": "f1356ba5-8d77-4b54-c929-e6fe646138eb"
      },
      "execution_count": null,
      "outputs": [
        {
          "output_type": "execute_result",
          "data": {
            "text/plain": [
              "0.8"
            ]
          },
          "metadata": {},
          "execution_count": 142
        }
      ]
    },
    {
      "cell_type": "code",
      "source": [
        "# roc_auc_score(y_test,y_pred,multi_class='ovo')"
      ],
      "metadata": {
        "id": "Jt8hdN4ZffZL"
      },
      "execution_count": null,
      "outputs": []
    },
    {
      "cell_type": "code",
      "execution_count": null,
      "metadata": {
        "id": "tCnp78r97V6v",
        "colab": {
          "base_uri": "https://localhost:8080/"
        },
        "outputId": "c69d3636-ae58-4782-84f0-517a0d4928e0"
      },
      "outputs": [
        {
          "output_type": "execute_result",
          "data": {
            "text/plain": [
              "['endocrinologist']"
            ]
          },
          "metadata": {},
          "execution_count": 144
        }
      ],
      "source": [
        "dis = y_pred[0]\n",
        "loc = df.loc[df['disease'] ==dis ].index[0]\n",
        "ll=list(df['doctor'].iloc[loc:(loc+1)])\n",
        "ll"
      ]
    },
    {
      "cell_type": "code",
      "execution_count": null,
      "metadata": {
        "id": "NdG2ay246fbZ",
        "colab": {
          "base_uri": "https://localhost:8080/",
          "height": 356
        },
        "outputId": "89e0a2f8-35c8-4b6a-f9ef-0ec71c17f109"
      },
      "outputs": [
        {
          "output_type": "error",
          "ename": "FileNotFoundError",
          "evalue": "ignored",
          "traceback": [
            "\u001b[0;31m---------------------------------------------------------------------------\u001b[0m",
            "\u001b[0;31mFileNotFoundError\u001b[0m                         Traceback (most recent call last)",
            "\u001b[0;32m<ipython-input-145-5230a0b0cd05>\u001b[0m in \u001b[0;36m<cell line: 1>\u001b[0;34m()\u001b[0m\n\u001b[0;32m----> 1\u001b[0;31m \u001b[0mdrdf\u001b[0m\u001b[0;34m=\u001b[0m\u001b[0mpd\u001b[0m\u001b[0;34m.\u001b[0m\u001b[0mread_csv\u001b[0m\u001b[0;34m(\u001b[0m\u001b[0;34m'drdetails.csv'\u001b[0m\u001b[0;34m)\u001b[0m\u001b[0;34m\u001b[0m\u001b[0;34m\u001b[0m\u001b[0m\n\u001b[0m\u001b[1;32m      2\u001b[0m \u001b[0mdrdf\u001b[0m\u001b[0;34m.\u001b[0m\u001b[0mhead\u001b[0m\u001b[0;34m(\u001b[0m\u001b[0;34m)\u001b[0m\u001b[0;34m\u001b[0m\u001b[0;34m\u001b[0m\u001b[0m\n",
            "\u001b[0;32m/usr/local/lib/python3.10/dist-packages/pandas/util/_decorators.py\u001b[0m in \u001b[0;36mwrapper\u001b[0;34m(*args, **kwargs)\u001b[0m\n\u001b[1;32m    209\u001b[0m                 \u001b[0;32melse\u001b[0m\u001b[0;34m:\u001b[0m\u001b[0;34m\u001b[0m\u001b[0;34m\u001b[0m\u001b[0m\n\u001b[1;32m    210\u001b[0m                     \u001b[0mkwargs\u001b[0m\u001b[0;34m[\u001b[0m\u001b[0mnew_arg_name\u001b[0m\u001b[0;34m]\u001b[0m \u001b[0;34m=\u001b[0m \u001b[0mnew_arg_value\u001b[0m\u001b[0;34m\u001b[0m\u001b[0;34m\u001b[0m\u001b[0m\n\u001b[0;32m--> 211\u001b[0;31m             \u001b[0;32mreturn\u001b[0m \u001b[0mfunc\u001b[0m\u001b[0;34m(\u001b[0m\u001b[0;34m*\u001b[0m\u001b[0margs\u001b[0m\u001b[0;34m,\u001b[0m \u001b[0;34m**\u001b[0m\u001b[0mkwargs\u001b[0m\u001b[0;34m)\u001b[0m\u001b[0;34m\u001b[0m\u001b[0;34m\u001b[0m\u001b[0m\n\u001b[0m\u001b[1;32m    212\u001b[0m \u001b[0;34m\u001b[0m\u001b[0m\n\u001b[1;32m    213\u001b[0m         \u001b[0;32mreturn\u001b[0m \u001b[0mcast\u001b[0m\u001b[0;34m(\u001b[0m\u001b[0mF\u001b[0m\u001b[0;34m,\u001b[0m \u001b[0mwrapper\u001b[0m\u001b[0;34m)\u001b[0m\u001b[0;34m\u001b[0m\u001b[0;34m\u001b[0m\u001b[0m\n",
            "\u001b[0;32m/usr/local/lib/python3.10/dist-packages/pandas/util/_decorators.py\u001b[0m in \u001b[0;36mwrapper\u001b[0;34m(*args, **kwargs)\u001b[0m\n\u001b[1;32m    329\u001b[0m                     \u001b[0mstacklevel\u001b[0m\u001b[0;34m=\u001b[0m\u001b[0mfind_stack_level\u001b[0m\u001b[0;34m(\u001b[0m\u001b[0;34m)\u001b[0m\u001b[0;34m,\u001b[0m\u001b[0;34m\u001b[0m\u001b[0;34m\u001b[0m\u001b[0m\n\u001b[1;32m    330\u001b[0m                 )\n\u001b[0;32m--> 331\u001b[0;31m             \u001b[0;32mreturn\u001b[0m \u001b[0mfunc\u001b[0m\u001b[0;34m(\u001b[0m\u001b[0;34m*\u001b[0m\u001b[0margs\u001b[0m\u001b[0;34m,\u001b[0m \u001b[0;34m**\u001b[0m\u001b[0mkwargs\u001b[0m\u001b[0;34m)\u001b[0m\u001b[0;34m\u001b[0m\u001b[0;34m\u001b[0m\u001b[0m\n\u001b[0m\u001b[1;32m    332\u001b[0m \u001b[0;34m\u001b[0m\u001b[0m\n\u001b[1;32m    333\u001b[0m         \u001b[0;31m# error: \"Callable[[VarArg(Any), KwArg(Any)], Any]\" has no\u001b[0m\u001b[0;34m\u001b[0m\u001b[0;34m\u001b[0m\u001b[0m\n",
            "\u001b[0;32m/usr/local/lib/python3.10/dist-packages/pandas/io/parsers/readers.py\u001b[0m in \u001b[0;36mread_csv\u001b[0;34m(filepath_or_buffer, sep, delimiter, header, names, index_col, usecols, squeeze, prefix, mangle_dupe_cols, dtype, engine, converters, true_values, false_values, skipinitialspace, skiprows, skipfooter, nrows, na_values, keep_default_na, na_filter, verbose, skip_blank_lines, parse_dates, infer_datetime_format, keep_date_col, date_parser, dayfirst, cache_dates, iterator, chunksize, compression, thousands, decimal, lineterminator, quotechar, quoting, doublequote, escapechar, comment, encoding, encoding_errors, dialect, error_bad_lines, warn_bad_lines, on_bad_lines, delim_whitespace, low_memory, memory_map, float_precision, storage_options)\u001b[0m\n\u001b[1;32m    948\u001b[0m     \u001b[0mkwds\u001b[0m\u001b[0;34m.\u001b[0m\u001b[0mupdate\u001b[0m\u001b[0;34m(\u001b[0m\u001b[0mkwds_defaults\u001b[0m\u001b[0;34m)\u001b[0m\u001b[0;34m\u001b[0m\u001b[0;34m\u001b[0m\u001b[0m\n\u001b[1;32m    949\u001b[0m \u001b[0;34m\u001b[0m\u001b[0m\n\u001b[0;32m--> 950\u001b[0;31m     \u001b[0;32mreturn\u001b[0m \u001b[0m_read\u001b[0m\u001b[0;34m(\u001b[0m\u001b[0mfilepath_or_buffer\u001b[0m\u001b[0;34m,\u001b[0m \u001b[0mkwds\u001b[0m\u001b[0;34m)\u001b[0m\u001b[0;34m\u001b[0m\u001b[0;34m\u001b[0m\u001b[0m\n\u001b[0m\u001b[1;32m    951\u001b[0m \u001b[0;34m\u001b[0m\u001b[0m\n\u001b[1;32m    952\u001b[0m \u001b[0;34m\u001b[0m\u001b[0m\n",
            "\u001b[0;32m/usr/local/lib/python3.10/dist-packages/pandas/io/parsers/readers.py\u001b[0m in \u001b[0;36m_read\u001b[0;34m(filepath_or_buffer, kwds)\u001b[0m\n\u001b[1;32m    603\u001b[0m \u001b[0;34m\u001b[0m\u001b[0m\n\u001b[1;32m    604\u001b[0m     \u001b[0;31m# Create the parser.\u001b[0m\u001b[0;34m\u001b[0m\u001b[0;34m\u001b[0m\u001b[0m\n\u001b[0;32m--> 605\u001b[0;31m     \u001b[0mparser\u001b[0m \u001b[0;34m=\u001b[0m \u001b[0mTextFileReader\u001b[0m\u001b[0;34m(\u001b[0m\u001b[0mfilepath_or_buffer\u001b[0m\u001b[0;34m,\u001b[0m \u001b[0;34m**\u001b[0m\u001b[0mkwds\u001b[0m\u001b[0;34m)\u001b[0m\u001b[0;34m\u001b[0m\u001b[0;34m\u001b[0m\u001b[0m\n\u001b[0m\u001b[1;32m    606\u001b[0m \u001b[0;34m\u001b[0m\u001b[0m\n\u001b[1;32m    607\u001b[0m     \u001b[0;32mif\u001b[0m \u001b[0mchunksize\u001b[0m \u001b[0;32mor\u001b[0m \u001b[0miterator\u001b[0m\u001b[0;34m:\u001b[0m\u001b[0;34m\u001b[0m\u001b[0;34m\u001b[0m\u001b[0m\n",
            "\u001b[0;32m/usr/local/lib/python3.10/dist-packages/pandas/io/parsers/readers.py\u001b[0m in \u001b[0;36m__init__\u001b[0;34m(self, f, engine, **kwds)\u001b[0m\n\u001b[1;32m   1440\u001b[0m \u001b[0;34m\u001b[0m\u001b[0m\n\u001b[1;32m   1441\u001b[0m         \u001b[0mself\u001b[0m\u001b[0;34m.\u001b[0m\u001b[0mhandles\u001b[0m\u001b[0;34m:\u001b[0m \u001b[0mIOHandles\u001b[0m \u001b[0;34m|\u001b[0m \u001b[0;32mNone\u001b[0m \u001b[0;34m=\u001b[0m \u001b[0;32mNone\u001b[0m\u001b[0;34m\u001b[0m\u001b[0;34m\u001b[0m\u001b[0m\n\u001b[0;32m-> 1442\u001b[0;31m         \u001b[0mself\u001b[0m\u001b[0;34m.\u001b[0m\u001b[0m_engine\u001b[0m \u001b[0;34m=\u001b[0m \u001b[0mself\u001b[0m\u001b[0;34m.\u001b[0m\u001b[0m_make_engine\u001b[0m\u001b[0;34m(\u001b[0m\u001b[0mf\u001b[0m\u001b[0;34m,\u001b[0m \u001b[0mself\u001b[0m\u001b[0;34m.\u001b[0m\u001b[0mengine\u001b[0m\u001b[0;34m)\u001b[0m\u001b[0;34m\u001b[0m\u001b[0;34m\u001b[0m\u001b[0m\n\u001b[0m\u001b[1;32m   1443\u001b[0m \u001b[0;34m\u001b[0m\u001b[0m\n\u001b[1;32m   1444\u001b[0m     \u001b[0;32mdef\u001b[0m \u001b[0mclose\u001b[0m\u001b[0;34m(\u001b[0m\u001b[0mself\u001b[0m\u001b[0;34m)\u001b[0m \u001b[0;34m->\u001b[0m \u001b[0;32mNone\u001b[0m\u001b[0;34m:\u001b[0m\u001b[0;34m\u001b[0m\u001b[0;34m\u001b[0m\u001b[0m\n",
            "\u001b[0;32m/usr/local/lib/python3.10/dist-packages/pandas/io/parsers/readers.py\u001b[0m in \u001b[0;36m_make_engine\u001b[0;34m(self, f, engine)\u001b[0m\n\u001b[1;32m   1733\u001b[0m                 \u001b[0;32mif\u001b[0m \u001b[0;34m\"b\"\u001b[0m \u001b[0;32mnot\u001b[0m \u001b[0;32min\u001b[0m \u001b[0mmode\u001b[0m\u001b[0;34m:\u001b[0m\u001b[0;34m\u001b[0m\u001b[0;34m\u001b[0m\u001b[0m\n\u001b[1;32m   1734\u001b[0m                     \u001b[0mmode\u001b[0m \u001b[0;34m+=\u001b[0m \u001b[0;34m\"b\"\u001b[0m\u001b[0;34m\u001b[0m\u001b[0;34m\u001b[0m\u001b[0m\n\u001b[0;32m-> 1735\u001b[0;31m             self.handles = get_handle(\n\u001b[0m\u001b[1;32m   1736\u001b[0m                 \u001b[0mf\u001b[0m\u001b[0;34m,\u001b[0m\u001b[0;34m\u001b[0m\u001b[0;34m\u001b[0m\u001b[0m\n\u001b[1;32m   1737\u001b[0m                 \u001b[0mmode\u001b[0m\u001b[0;34m,\u001b[0m\u001b[0;34m\u001b[0m\u001b[0;34m\u001b[0m\u001b[0m\n",
            "\u001b[0;32m/usr/local/lib/python3.10/dist-packages/pandas/io/common.py\u001b[0m in \u001b[0;36mget_handle\u001b[0;34m(path_or_buf, mode, encoding, compression, memory_map, is_text, errors, storage_options)\u001b[0m\n\u001b[1;32m    854\u001b[0m         \u001b[0;32mif\u001b[0m \u001b[0mioargs\u001b[0m\u001b[0;34m.\u001b[0m\u001b[0mencoding\u001b[0m \u001b[0;32mand\u001b[0m \u001b[0;34m\"b\"\u001b[0m \u001b[0;32mnot\u001b[0m \u001b[0;32min\u001b[0m \u001b[0mioargs\u001b[0m\u001b[0;34m.\u001b[0m\u001b[0mmode\u001b[0m\u001b[0;34m:\u001b[0m\u001b[0;34m\u001b[0m\u001b[0;34m\u001b[0m\u001b[0m\n\u001b[1;32m    855\u001b[0m             \u001b[0;31m# Encoding\u001b[0m\u001b[0;34m\u001b[0m\u001b[0;34m\u001b[0m\u001b[0m\n\u001b[0;32m--> 856\u001b[0;31m             handle = open(\n\u001b[0m\u001b[1;32m    857\u001b[0m                 \u001b[0mhandle\u001b[0m\u001b[0;34m,\u001b[0m\u001b[0;34m\u001b[0m\u001b[0;34m\u001b[0m\u001b[0m\n\u001b[1;32m    858\u001b[0m                 \u001b[0mioargs\u001b[0m\u001b[0;34m.\u001b[0m\u001b[0mmode\u001b[0m\u001b[0;34m,\u001b[0m\u001b[0;34m\u001b[0m\u001b[0;34m\u001b[0m\u001b[0m\n",
            "\u001b[0;31mFileNotFoundError\u001b[0m: [Errno 2] No such file or directory: 'drdetails.csv'"
          ]
        }
      ],
      "source": [
        "drdf=pd.read_csv('drdetails.csv')\n",
        "drdf.head()"
      ]
    },
    {
      "cell_type": "code",
      "execution_count": null,
      "metadata": {
        "id": "zFUmIhLL63JI"
      },
      "outputs": [],
      "source": [
        "drdf.isnull().sum()"
      ]
    },
    {
      "cell_type": "code",
      "execution_count": null,
      "metadata": {
        "id": "Awd-8Lh6F3jX"
      },
      "outputs": [],
      "source": [
        "drdf = drdf.fillna(0)\n",
        "drdf.head()"
      ]
    },
    {
      "cell_type": "code",
      "execution_count": null,
      "metadata": {
        "id": "Y5rrCXbj7TCX"
      },
      "outputs": [],
      "source": [
        "dd = drdf.loc[drdf['Specialist_In'] == ll[0]]\n",
        "dd"
      ]
    },
    {
      "cell_type": "code",
      "execution_count": null,
      "metadata": {
        "id": "GsbOqNHDC6iv"
      },
      "outputs": [],
      "source": [
        "fd = dd.query(\"Monday_Day != 0\")"
      ]
    },
    {
      "cell_type": "code",
      "execution_count": null,
      "metadata": {
        "id": "WHIDdE2mID6u"
      },
      "outputs": [],
      "source": [
        "fd[['Doctor_Name','Appoinment_NO','Monday_Day']]"
      ]
    }
  ],
  "metadata": {
    "colab": {
      "provenance": []
    },
    "kernelspec": {
      "display_name": "Python 3",
      "name": "python3"
    },
    "language_info": {
      "name": "python"
    }
  },
  "nbformat": 4,
  "nbformat_minor": 0
}