{
  "cells": [
    {
      "cell_type": "code",
      "execution_count": 1,
      "metadata": {
        "id": "D5pUsgbjG-S2"
      },
      "outputs": [],
      "source": [
        "import pandas as pd\n",
        "import numpy as np\n",
        "import pandas as pd\n",
        "import numpy as np\n",
        "from nltk.corpus import stopwords\n",
        "from sklearn.metrics.pairwise import linear_kernel\n",
        "from sklearn.feature_extraction.text import CountVectorizer\n",
        "from sklearn.feature_extraction.text import TfidfVectorizer\n",
        "from nltk.tokenize import RegexpTokenizer\n",
        "import re\n",
        "import string\n",
        "import random\n",
        "from PIL import Image\n",
        "import requests\n",
        "from io import BytesIO\n",
        "import matplotlib.pyplot as plt\n",
        "from sklearn.metrics import classification_report\n",
        "%matplotlib inline"
      ]
    },
    {
      "cell_type": "code",
      "execution_count": 2,
      "metadata": {
        "colab": {
          "base_uri": "https://localhost:8080/",
          "height": 206
        },
        "id": "pqBBAn_MH80x",
        "outputId": "41292bc8-6102-4280-8e0c-002ff94f44c0"
      },
      "outputs": [
        {
          "output_type": "execute_result",
          "data": {
            "text/plain": [
              "        disease                                           symptoms  \\\n",
              "0           flu  fever,cough,sore throat,runny or stuffy nose,m...   \n",
              "1    bronchitis  cough,mucus production,shortness of breath,che...   \n",
              "2     pneumonia  fever,cough,shortness of breath,chest pain,fat...   \n",
              "3  heart attack  chest pain,shortness of breath,nausea,vomiting...   \n",
              "4        stroke  sudden weakness,numbness on one side of the bo...   \n",
              "\n",
              "                                               cures  \\\n",
              "0           over-the-counter medications,rest,fluids   \n",
              "1  antibiotics,over-the-counter medications,rest,...   \n",
              "2  antibiotics,over-the-counter medications,rest,...   \n",
              "3                         emergency medical services   \n",
              "4                         emergency medical services   \n",
              "\n",
              "                        doctor     risk level  \n",
              "0    family doctor,urgent care      low (0.1%  \n",
              "1  family doctor,pulmonologist      low (0.5%  \n",
              "2  family doctor,pulmonologist  moderate (1%)  \n",
              "3                 cardiologist     high (20%)  \n",
              "4                 neurologist      high (15%)  "
            ],
            "text/html": [
              "\n",
              "  <div id=\"df-f8adcbcd-4ce0-4a0d-9106-abe20b39d405\" class=\"colab-df-container\">\n",
              "    <div>\n",
              "<style scoped>\n",
              "    .dataframe tbody tr th:only-of-type {\n",
              "        vertical-align: middle;\n",
              "    }\n",
              "\n",
              "    .dataframe tbody tr th {\n",
              "        vertical-align: top;\n",
              "    }\n",
              "\n",
              "    .dataframe thead th {\n",
              "        text-align: right;\n",
              "    }\n",
              "</style>\n",
              "<table border=\"1\" class=\"dataframe\">\n",
              "  <thead>\n",
              "    <tr style=\"text-align: right;\">\n",
              "      <th></th>\n",
              "      <th>disease</th>\n",
              "      <th>symptoms</th>\n",
              "      <th>cures</th>\n",
              "      <th>doctor</th>\n",
              "      <th>risk level</th>\n",
              "    </tr>\n",
              "  </thead>\n",
              "  <tbody>\n",
              "    <tr>\n",
              "      <th>0</th>\n",
              "      <td>flu</td>\n",
              "      <td>fever,cough,sore throat,runny or stuffy nose,m...</td>\n",
              "      <td>over-the-counter medications,rest,fluids</td>\n",
              "      <td>family doctor,urgent care</td>\n",
              "      <td>low (0.1%</td>\n",
              "    </tr>\n",
              "    <tr>\n",
              "      <th>1</th>\n",
              "      <td>bronchitis</td>\n",
              "      <td>cough,mucus production,shortness of breath,che...</td>\n",
              "      <td>antibiotics,over-the-counter medications,rest,...</td>\n",
              "      <td>family doctor,pulmonologist</td>\n",
              "      <td>low (0.5%</td>\n",
              "    </tr>\n",
              "    <tr>\n",
              "      <th>2</th>\n",
              "      <td>pneumonia</td>\n",
              "      <td>fever,cough,shortness of breath,chest pain,fat...</td>\n",
              "      <td>antibiotics,over-the-counter medications,rest,...</td>\n",
              "      <td>family doctor,pulmonologist</td>\n",
              "      <td>moderate (1%)</td>\n",
              "    </tr>\n",
              "    <tr>\n",
              "      <th>3</th>\n",
              "      <td>heart attack</td>\n",
              "      <td>chest pain,shortness of breath,nausea,vomiting...</td>\n",
              "      <td>emergency medical services</td>\n",
              "      <td>cardiologist</td>\n",
              "      <td>high (20%)</td>\n",
              "    </tr>\n",
              "    <tr>\n",
              "      <th>4</th>\n",
              "      <td>stroke</td>\n",
              "      <td>sudden weakness,numbness on one side of the bo...</td>\n",
              "      <td>emergency medical services</td>\n",
              "      <td>neurologist</td>\n",
              "      <td>high (15%)</td>\n",
              "    </tr>\n",
              "  </tbody>\n",
              "</table>\n",
              "</div>\n",
              "    <div class=\"colab-df-buttons\">\n",
              "\n",
              "  <div class=\"colab-df-container\">\n",
              "    <button class=\"colab-df-convert\" onclick=\"convertToInteractive('df-f8adcbcd-4ce0-4a0d-9106-abe20b39d405')\"\n",
              "            title=\"Convert this dataframe to an interactive table.\"\n",
              "            style=\"display:none;\">\n",
              "\n",
              "  <svg xmlns=\"http://www.w3.org/2000/svg\" height=\"24px\" viewBox=\"0 -960 960 960\">\n",
              "    <path d=\"M120-120v-720h720v720H120Zm60-500h600v-160H180v160Zm220 220h160v-160H400v160Zm0 220h160v-160H400v160ZM180-400h160v-160H180v160Zm440 0h160v-160H620v160ZM180-180h160v-160H180v160Zm440 0h160v-160H620v160Z\"/>\n",
              "  </svg>\n",
              "    </button>\n",
              "\n",
              "  <style>\n",
              "    .colab-df-container {\n",
              "      display:flex;\n",
              "      gap: 12px;\n",
              "    }\n",
              "\n",
              "    .colab-df-convert {\n",
              "      background-color: #E8F0FE;\n",
              "      border: none;\n",
              "      border-radius: 50%;\n",
              "      cursor: pointer;\n",
              "      display: none;\n",
              "      fill: #1967D2;\n",
              "      height: 32px;\n",
              "      padding: 0 0 0 0;\n",
              "      width: 32px;\n",
              "    }\n",
              "\n",
              "    .colab-df-convert:hover {\n",
              "      background-color: #E2EBFA;\n",
              "      box-shadow: 0px 1px 2px rgba(60, 64, 67, 0.3), 0px 1px 3px 1px rgba(60, 64, 67, 0.15);\n",
              "      fill: #174EA6;\n",
              "    }\n",
              "\n",
              "    .colab-df-buttons div {\n",
              "      margin-bottom: 4px;\n",
              "    }\n",
              "\n",
              "    [theme=dark] .colab-df-convert {\n",
              "      background-color: #3B4455;\n",
              "      fill: #D2E3FC;\n",
              "    }\n",
              "\n",
              "    [theme=dark] .colab-df-convert:hover {\n",
              "      background-color: #434B5C;\n",
              "      box-shadow: 0px 1px 3px 1px rgba(0, 0, 0, 0.15);\n",
              "      filter: drop-shadow(0px 1px 2px rgba(0, 0, 0, 0.3));\n",
              "      fill: #FFFFFF;\n",
              "    }\n",
              "  </style>\n",
              "\n",
              "    <script>\n",
              "      const buttonEl =\n",
              "        document.querySelector('#df-f8adcbcd-4ce0-4a0d-9106-abe20b39d405 button.colab-df-convert');\n",
              "      buttonEl.style.display =\n",
              "        google.colab.kernel.accessAllowed ? 'block' : 'none';\n",
              "\n",
              "      async function convertToInteractive(key) {\n",
              "        const element = document.querySelector('#df-f8adcbcd-4ce0-4a0d-9106-abe20b39d405');\n",
              "        const dataTable =\n",
              "          await google.colab.kernel.invokeFunction('convertToInteractive',\n",
              "                                                    [key], {});\n",
              "        if (!dataTable) return;\n",
              "\n",
              "        const docLinkHtml = 'Like what you see? Visit the ' +\n",
              "          '<a target=\"_blank\" href=https://colab.research.google.com/notebooks/data_table.ipynb>data table notebook</a>'\n",
              "          + ' to learn more about interactive tables.';\n",
              "        element.innerHTML = '';\n",
              "        dataTable['output_type'] = 'display_data';\n",
              "        await google.colab.output.renderOutput(dataTable, element);\n",
              "        const docLink = document.createElement('div');\n",
              "        docLink.innerHTML = docLinkHtml;\n",
              "        element.appendChild(docLink);\n",
              "      }\n",
              "    </script>\n",
              "  </div>\n",
              "\n",
              "\n",
              "<div id=\"df-737e054f-63d7-4524-a188-8fd62024206d\">\n",
              "  <button class=\"colab-df-quickchart\" onclick=\"quickchart('df-737e054f-63d7-4524-a188-8fd62024206d')\"\n",
              "            title=\"Suggest charts\"\n",
              "            style=\"display:none;\">\n",
              "\n",
              "<svg xmlns=\"http://www.w3.org/2000/svg\" height=\"24px\"viewBox=\"0 0 24 24\"\n",
              "     width=\"24px\">\n",
              "    <g>\n",
              "        <path d=\"M19 3H5c-1.1 0-2 .9-2 2v14c0 1.1.9 2 2 2h14c1.1 0 2-.9 2-2V5c0-1.1-.9-2-2-2zM9 17H7v-7h2v7zm4 0h-2V7h2v10zm4 0h-2v-4h2v4z\"/>\n",
              "    </g>\n",
              "</svg>\n",
              "  </button>\n",
              "\n",
              "<style>\n",
              "  .colab-df-quickchart {\n",
              "      --bg-color: #E8F0FE;\n",
              "      --fill-color: #1967D2;\n",
              "      --hover-bg-color: #E2EBFA;\n",
              "      --hover-fill-color: #174EA6;\n",
              "      --disabled-fill-color: #AAA;\n",
              "      --disabled-bg-color: #DDD;\n",
              "  }\n",
              "\n",
              "  [theme=dark] .colab-df-quickchart {\n",
              "      --bg-color: #3B4455;\n",
              "      --fill-color: #D2E3FC;\n",
              "      --hover-bg-color: #434B5C;\n",
              "      --hover-fill-color: #FFFFFF;\n",
              "      --disabled-bg-color: #3B4455;\n",
              "      --disabled-fill-color: #666;\n",
              "  }\n",
              "\n",
              "  .colab-df-quickchart {\n",
              "    background-color: var(--bg-color);\n",
              "    border: none;\n",
              "    border-radius: 50%;\n",
              "    cursor: pointer;\n",
              "    display: none;\n",
              "    fill: var(--fill-color);\n",
              "    height: 32px;\n",
              "    padding: 0;\n",
              "    width: 32px;\n",
              "  }\n",
              "\n",
              "  .colab-df-quickchart:hover {\n",
              "    background-color: var(--hover-bg-color);\n",
              "    box-shadow: 0 1px 2px rgba(60, 64, 67, 0.3), 0 1px 3px 1px rgba(60, 64, 67, 0.15);\n",
              "    fill: var(--button-hover-fill-color);\n",
              "  }\n",
              "\n",
              "  .colab-df-quickchart-complete:disabled,\n",
              "  .colab-df-quickchart-complete:disabled:hover {\n",
              "    background-color: var(--disabled-bg-color);\n",
              "    fill: var(--disabled-fill-color);\n",
              "    box-shadow: none;\n",
              "  }\n",
              "\n",
              "  .colab-df-spinner {\n",
              "    border: 2px solid var(--fill-color);\n",
              "    border-color: transparent;\n",
              "    border-bottom-color: var(--fill-color);\n",
              "    animation:\n",
              "      spin 1s steps(1) infinite;\n",
              "  }\n",
              "\n",
              "  @keyframes spin {\n",
              "    0% {\n",
              "      border-color: transparent;\n",
              "      border-bottom-color: var(--fill-color);\n",
              "      border-left-color: var(--fill-color);\n",
              "    }\n",
              "    20% {\n",
              "      border-color: transparent;\n",
              "      border-left-color: var(--fill-color);\n",
              "      border-top-color: var(--fill-color);\n",
              "    }\n",
              "    30% {\n",
              "      border-color: transparent;\n",
              "      border-left-color: var(--fill-color);\n",
              "      border-top-color: var(--fill-color);\n",
              "      border-right-color: var(--fill-color);\n",
              "    }\n",
              "    40% {\n",
              "      border-color: transparent;\n",
              "      border-right-color: var(--fill-color);\n",
              "      border-top-color: var(--fill-color);\n",
              "    }\n",
              "    60% {\n",
              "      border-color: transparent;\n",
              "      border-right-color: var(--fill-color);\n",
              "    }\n",
              "    80% {\n",
              "      border-color: transparent;\n",
              "      border-right-color: var(--fill-color);\n",
              "      border-bottom-color: var(--fill-color);\n",
              "    }\n",
              "    90% {\n",
              "      border-color: transparent;\n",
              "      border-bottom-color: var(--fill-color);\n",
              "    }\n",
              "  }\n",
              "</style>\n",
              "\n",
              "  <script>\n",
              "    async function quickchart(key) {\n",
              "      const quickchartButtonEl =\n",
              "        document.querySelector('#' + key + ' button');\n",
              "      quickchartButtonEl.disabled = true;  // To prevent multiple clicks.\n",
              "      quickchartButtonEl.classList.add('colab-df-spinner');\n",
              "      try {\n",
              "        const charts = await google.colab.kernel.invokeFunction(\n",
              "            'suggestCharts', [key], {});\n",
              "      } catch (error) {\n",
              "        console.error('Error during call to suggestCharts:', error);\n",
              "      }\n",
              "      quickchartButtonEl.classList.remove('colab-df-spinner');\n",
              "      quickchartButtonEl.classList.add('colab-df-quickchart-complete');\n",
              "    }\n",
              "    (() => {\n",
              "      let quickchartButtonEl =\n",
              "        document.querySelector('#df-737e054f-63d7-4524-a188-8fd62024206d button');\n",
              "      quickchartButtonEl.style.display =\n",
              "        google.colab.kernel.accessAllowed ? 'block' : 'none';\n",
              "    })();\n",
              "  </script>\n",
              "</div>\n",
              "\n",
              "    </div>\n",
              "  </div>\n"
            ],
            "application/vnd.google.colaboratory.intrinsic+json": {
              "type": "dataframe",
              "variable_name": "df",
              "summary": "{\n  \"name\": \"df\",\n  \"rows\": 98,\n  \"fields\": [\n    {\n      \"column\": \"disease\",\n      \"properties\": {\n        \"dtype\": \"string\",\n        \"num_unique_values\": 88,\n        \"samples\": [\n          \"thyroid cancer\",\n          \"flu\",\n          \"cholesterol\"\n        ],\n        \"semantic_type\": \"\",\n        \"description\": \"\"\n      }\n    },\n    {\n      \"column\": \"symptoms\",\n      \"properties\": {\n        \"dtype\": \"string\",\n        \"num_unique_values\": 78,\n        \"samples\": [\n          \"elevated body temperature \",\n          \"fever,cough,sore throat,runny or stuffy nose,muscle aches,headache,fatigue\",\n          \"nausea,vomiting,diarrhea,abdominal cramps\"\n        ],\n        \"semantic_type\": \"\",\n        \"description\": \"\"\n      }\n    },\n    {\n      \"column\": \"cures\",\n      \"properties\": {\n        \"dtype\": \"string\",\n        \"num_unique_values\": 56,\n        \"samples\": [\n          \"over-the-counter medications,rest,fluids\",\n          \"there is no cure for alzheimer's disease,but there are treatments that can help manage the symptoms\",\n          \"there is no cure for mononucleosis,but symptoms can be treated with rest,fluids,over-the-counter medications\"\n        ],\n        \"semantic_type\": \"\",\n        \"description\": \"\"\n      }\n    },\n    {\n      \"column\": \"doctor\",\n      \"properties\": {\n        \"dtype\": \"category\",\n        \"num_unique_values\": 41,\n        \"samples\": [\n          \"urologist,gynecologist\",\n          \"surgeon \",\n          \"gastroenterologist\"\n        ],\n        \"semantic_type\": \"\",\n        \"description\": \"\"\n      }\n    },\n    {\n      \"column\": \"risk level\",\n      \"properties\": {\n        \"dtype\": \"category\",\n        \"num_unique_values\": 21,\n        \"samples\": [\n          \"low (0.1%\",\n          \"varies depending on the type of eating disorder\",\n          \"varies depending on the type of copd \"\n        ],\n        \"semantic_type\": \"\",\n        \"description\": \"\"\n      }\n    }\n  ]\n}"
            }
          },
          "metadata": {},
          "execution_count": 2
        }
      ],
      "source": [
        "df = pd.read_csv('symptoms.csv')\n",
        "df.head()"
      ]
    },
    {
      "cell_type": "code",
      "execution_count": 3,
      "metadata": {
        "id": "Q6NosNLPJFPH"
      },
      "outputs": [],
      "source": [
        "# df_dr=pd.read_csv('doctor.csv')\n",
        "# df"
      ]
    },
    {
      "cell_type": "code",
      "execution_count": 4,
      "metadata": {
        "colab": {
          "base_uri": "https://localhost:8080/",
          "height": 89
        },
        "id": "qzKZMHruLEld",
        "outputId": "a900bf54-e8f3-4916-838d-d322deaeee36"
      },
      "outputs": [
        {
          "output_type": "execute_result",
          "data": {
            "text/plain": [
              "                                                 Tag\n",
              "0  sudden numbness or weakness in the face,confus..."
            ],
            "text/html": [
              "\n",
              "  <div id=\"df-26d07347-78b3-4ce2-b436-79b582baf2d0\" class=\"colab-df-container\">\n",
              "    <div>\n",
              "<style scoped>\n",
              "    .dataframe tbody tr th:only-of-type {\n",
              "        vertical-align: middle;\n",
              "    }\n",
              "\n",
              "    .dataframe tbody tr th {\n",
              "        vertical-align: top;\n",
              "    }\n",
              "\n",
              "    .dataframe thead th {\n",
              "        text-align: right;\n",
              "    }\n",
              "</style>\n",
              "<table border=\"1\" class=\"dataframe\">\n",
              "  <thead>\n",
              "    <tr style=\"text-align: right;\">\n",
              "      <th></th>\n",
              "      <th>Tag</th>\n",
              "    </tr>\n",
              "  </thead>\n",
              "  <tbody>\n",
              "    <tr>\n",
              "      <th>0</th>\n",
              "      <td>sudden numbness or weakness in the face,confus...</td>\n",
              "    </tr>\n",
              "  </tbody>\n",
              "</table>\n",
              "</div>\n",
              "    <div class=\"colab-df-buttons\">\n",
              "\n",
              "  <div class=\"colab-df-container\">\n",
              "    <button class=\"colab-df-convert\" onclick=\"convertToInteractive('df-26d07347-78b3-4ce2-b436-79b582baf2d0')\"\n",
              "            title=\"Convert this dataframe to an interactive table.\"\n",
              "            style=\"display:none;\">\n",
              "\n",
              "  <svg xmlns=\"http://www.w3.org/2000/svg\" height=\"24px\" viewBox=\"0 -960 960 960\">\n",
              "    <path d=\"M120-120v-720h720v720H120Zm60-500h600v-160H180v160Zm220 220h160v-160H400v160Zm0 220h160v-160H400v160ZM180-400h160v-160H180v160Zm440 0h160v-160H620v160ZM180-180h160v-160H180v160Zm440 0h160v-160H620v160Z\"/>\n",
              "  </svg>\n",
              "    </button>\n",
              "\n",
              "  <style>\n",
              "    .colab-df-container {\n",
              "      display:flex;\n",
              "      gap: 12px;\n",
              "    }\n",
              "\n",
              "    .colab-df-convert {\n",
              "      background-color: #E8F0FE;\n",
              "      border: none;\n",
              "      border-radius: 50%;\n",
              "      cursor: pointer;\n",
              "      display: none;\n",
              "      fill: #1967D2;\n",
              "      height: 32px;\n",
              "      padding: 0 0 0 0;\n",
              "      width: 32px;\n",
              "    }\n",
              "\n",
              "    .colab-df-convert:hover {\n",
              "      background-color: #E2EBFA;\n",
              "      box-shadow: 0px 1px 2px rgba(60, 64, 67, 0.3), 0px 1px 3px 1px rgba(60, 64, 67, 0.15);\n",
              "      fill: #174EA6;\n",
              "    }\n",
              "\n",
              "    .colab-df-buttons div {\n",
              "      margin-bottom: 4px;\n",
              "    }\n",
              "\n",
              "    [theme=dark] .colab-df-convert {\n",
              "      background-color: #3B4455;\n",
              "      fill: #D2E3FC;\n",
              "    }\n",
              "\n",
              "    [theme=dark] .colab-df-convert:hover {\n",
              "      background-color: #434B5C;\n",
              "      box-shadow: 0px 1px 3px 1px rgba(0, 0, 0, 0.15);\n",
              "      filter: drop-shadow(0px 1px 2px rgba(0, 0, 0, 0.3));\n",
              "      fill: #FFFFFF;\n",
              "    }\n",
              "  </style>\n",
              "\n",
              "    <script>\n",
              "      const buttonEl =\n",
              "        document.querySelector('#df-26d07347-78b3-4ce2-b436-79b582baf2d0 button.colab-df-convert');\n",
              "      buttonEl.style.display =\n",
              "        google.colab.kernel.accessAllowed ? 'block' : 'none';\n",
              "\n",
              "      async function convertToInteractive(key) {\n",
              "        const element = document.querySelector('#df-26d07347-78b3-4ce2-b436-79b582baf2d0');\n",
              "        const dataTable =\n",
              "          await google.colab.kernel.invokeFunction('convertToInteractive',\n",
              "                                                    [key], {});\n",
              "        if (!dataTable) return;\n",
              "\n",
              "        const docLinkHtml = 'Like what you see? Visit the ' +\n",
              "          '<a target=\"_blank\" href=https://colab.research.google.com/notebooks/data_table.ipynb>data table notebook</a>'\n",
              "          + ' to learn more about interactive tables.';\n",
              "        element.innerHTML = '';\n",
              "        dataTable['output_type'] = 'display_data';\n",
              "        await google.colab.output.renderOutput(dataTable, element);\n",
              "        const docLink = document.createElement('div');\n",
              "        docLink.innerHTML = docLinkHtml;\n",
              "        element.appendChild(docLink);\n",
              "      }\n",
              "    </script>\n",
              "  </div>\n",
              "\n",
              "\n",
              "  <div id=\"id_2fa434de-f16a-4768-b83a-25fdecd6284a\">\n",
              "    <style>\n",
              "      .colab-df-generate {\n",
              "        background-color: #E8F0FE;\n",
              "        border: none;\n",
              "        border-radius: 50%;\n",
              "        cursor: pointer;\n",
              "        display: none;\n",
              "        fill: #1967D2;\n",
              "        height: 32px;\n",
              "        padding: 0 0 0 0;\n",
              "        width: 32px;\n",
              "      }\n",
              "\n",
              "      .colab-df-generate:hover {\n",
              "        background-color: #E2EBFA;\n",
              "        box-shadow: 0px 1px 2px rgba(60, 64, 67, 0.3), 0px 1px 3px 1px rgba(60, 64, 67, 0.15);\n",
              "        fill: #174EA6;\n",
              "      }\n",
              "\n",
              "      [theme=dark] .colab-df-generate {\n",
              "        background-color: #3B4455;\n",
              "        fill: #D2E3FC;\n",
              "      }\n",
              "\n",
              "      [theme=dark] .colab-df-generate:hover {\n",
              "        background-color: #434B5C;\n",
              "        box-shadow: 0px 1px 3px 1px rgba(0, 0, 0, 0.15);\n",
              "        filter: drop-shadow(0px 1px 2px rgba(0, 0, 0, 0.3));\n",
              "        fill: #FFFFFF;\n",
              "      }\n",
              "    </style>\n",
              "    <button class=\"colab-df-generate\" onclick=\"generateWithVariable('df1')\"\n",
              "            title=\"Generate code using this dataframe.\"\n",
              "            style=\"display:none;\">\n",
              "\n",
              "  <svg xmlns=\"http://www.w3.org/2000/svg\" height=\"24px\"viewBox=\"0 0 24 24\"\n",
              "       width=\"24px\">\n",
              "    <path d=\"M7,19H8.4L18.45,9,17,7.55,7,17.6ZM5,21V16.75L18.45,3.32a2,2,0,0,1,2.83,0l1.4,1.43a1.91,1.91,0,0,1,.58,1.4,1.91,1.91,0,0,1-.58,1.4L9.25,21ZM18.45,9,17,7.55Zm-12,3A5.31,5.31,0,0,0,4.9,8.1,5.31,5.31,0,0,0,1,6.5,5.31,5.31,0,0,0,4.9,4.9,5.31,5.31,0,0,0,6.5,1,5.31,5.31,0,0,0,8.1,4.9,5.31,5.31,0,0,0,12,6.5,5.46,5.46,0,0,0,6.5,12Z\"/>\n",
              "  </svg>\n",
              "    </button>\n",
              "    <script>\n",
              "      (() => {\n",
              "      const buttonEl =\n",
              "        document.querySelector('#id_2fa434de-f16a-4768-b83a-25fdecd6284a button.colab-df-generate');\n",
              "      buttonEl.style.display =\n",
              "        google.colab.kernel.accessAllowed ? 'block' : 'none';\n",
              "\n",
              "      buttonEl.onclick = () => {\n",
              "        google.colab.notebook.generateWithVariable('df1');\n",
              "      }\n",
              "      })();\n",
              "    </script>\n",
              "  </div>\n",
              "\n",
              "    </div>\n",
              "  </div>\n"
            ],
            "application/vnd.google.colaboratory.intrinsic+json": {
              "type": "dataframe",
              "variable_name": "df1",
              "summary": "{\n  \"name\": \"df1\",\n  \"rows\": 1,\n  \"fields\": [\n    {\n      \"column\": \"Tag\",\n      \"properties\": {\n        \"dtype\": \"string\",\n        \"num_unique_values\": 1,\n        \"samples\": [\n          \"sudden numbness or weakness in the face,confusion and memory loss,pink eye,difficulty speaking,pain in body, fever, cough,headache,cant walk,vomiting\"\n        ],\n        \"semantic_type\": \"\",\n        \"description\": \"\"\n      }\n    }\n  ]\n}"
            }
          },
          "metadata": {},
          "execution_count": 4
        }
      ],
      "source": [
        "li={'Tag':['sudden numbness or weakness in the face,confusion and memory loss,pink eye,difficulty speaking,pain in body, fever, cough,headache,cant walk,vomiting']}\n",
        "df1=pd.DataFrame(li)\n",
        "df1"
      ]
    },
    {
      "cell_type": "code",
      "source": [
        "# df1=pd.read_csv('Stroke_Test.csv')\n",
        "# df1.head()"
      ],
      "metadata": {
        "id": "E8Z-7VA0Zpjh"
      },
      "execution_count": 5,
      "outputs": []
    },
    {
      "cell_type": "code",
      "execution_count": 6,
      "metadata": {
        "colab": {
          "base_uri": "https://localhost:8080/"
        },
        "id": "odWEWb3PK9Ce",
        "outputId": "cc7e0c5f-f0a7-4279-847d-432110965a84"
      },
      "outputs": [
        {
          "output_type": "stream",
          "name": "stdout",
          "text": [
            "(98, 200)\n",
            "(1, 200)\n",
            "[[0 0 0 ... 0 0 0]\n",
            " [0 0 0 ... 0 0 0]\n",
            " [0 0 0 ... 0 0 0]\n",
            " ...\n",
            " [0 0 0 ... 1 0 0]\n",
            " [0 0 0 ... 1 0 0]\n",
            " [0 0 0 ... 0 0 0]]\n",
            "[[0 0 0 0 0 0 0 0 0 0 0 0 0 0 0 0 0 0 0 0 0 0 0 0 0 0 0 0 0 1 0 0 0 0 0 0\n",
            "  0 0 0 0 0 0 0 0 0 0 0 0 0 0 1 0 1 0 0 0 0 0 0 1 0 0 0 0 0 0 1 0 0 1 0 0\n",
            "  0 0 0 1 0 0 0 2 0 0 0 0 0 0 0 0 0 0 0 0 0 0 0 0 1 0 0 0 1 0 0 0 0 0 0 0\n",
            "  0 1 0 0 0 1 1 0 0 0 0 0 0 0 0 0 0 0 0 0 0 0 0 0 0 0 0 0 0 0 0 0 0 0 0 0\n",
            "  0 0 0 1 0 0 0 0 0 0 0 1 0 0 0 0 0 0 0 0 0 0 0 1 0 0 0 0 0 0 0 0 0 0 0 0\n",
            "  0 0 0 0 0 0 0 0 1 0 0 0 1 0 0 0 0 0 0 0]]\n"
          ]
        }
      ],
      "source": [
        "from sklearn.feature_extraction.text import CountVectorizer\n",
        "# from sklearn.feature_extraction.text import TfidfVectorizer\n",
        "# vec=TfidfVectorizer(max_features=200)\n",
        "vec=CountVectorizer(max_features=200)\n",
        "vecs1=vec.fit_transform(df[\"symptoms\"]).toarray()\n",
        "vecs2=vec.transform(df1[\"Tag\"]).toarray()\n",
        "print(vecs1.shape)\n",
        "print(vecs2.shape)\n",
        "print(vecs1)\n",
        "print(vecs2)"
      ]
    },
    {
      "cell_type": "code",
      "execution_count": 7,
      "metadata": {
        "id": "RsiwqThcMwVe"
      },
      "outputs": [],
      "source": [
        "from sklearn.metrics.pairwise import cosine_similarity\n",
        "new_vec1=vecs1[:20]\n",
        "new_vec2=vecs2[:20]\n",
        "sim=cosine_similarity(vecs1,vecs2)"
      ]
    },
    {
      "cell_type": "code",
      "execution_count": 8,
      "metadata": {
        "colab": {
          "base_uri": "https://localhost:8080/"
        },
        "id": "KdU-m7PRM25F",
        "outputId": "eddf20d3-fb6a-4254-db53-b13ec9372dfa"
      },
      "outputs": [
        {
          "output_type": "execute_result",
          "data": {
            "text/plain": [
              "array([[0.25197632],\n",
              "       [0.15430335],\n",
              "       [0.23145502],\n",
              "       [0.14547859],\n",
              "       [0.6172134 ],\n",
              "       [0.25031309],\n",
              "       [0.05455447],\n",
              "       [0.48304589],\n",
              "       [0.32991444],\n",
              "       [0.26726124],\n",
              "       [0.10910895],\n",
              "       [0.05832118],\n",
              "       [0.        ],\n",
              "       [0.48304589],\n",
              "       [0.        ],\n",
              "       [0.        ],\n",
              "       [0.43643578],\n",
              "       [0.32991444],\n",
              "       [0.09759001],\n",
              "       [0.        ],\n",
              "       [0.21821789],\n",
              "       [0.        ],\n",
              "       [0.29160592],\n",
              "       [0.3003757 ],\n",
              "       [0.15430335],\n",
              "       [0.19738551],\n",
              "       [0.25031309],\n",
              "       [0.06299408],\n",
              "       [0.17817416],\n",
              "       [0.        ],\n",
              "       [0.24743583],\n",
              "       [0.08908708],\n",
              "       [0.        ],\n",
              "       [0.34503278],\n",
              "       [0.05455447],\n",
              "       [0.        ],\n",
              "       [0.16495722],\n",
              "       [0.        ],\n",
              "       [0.15430335],\n",
              "       [0.09759001],\n",
              "       [0.43643578],\n",
              "       [0.27914526],\n",
              "       [0.08247861],\n",
              "       [0.10910895],\n",
              "       [0.17496355],\n",
              "       [0.25197632],\n",
              "       [0.09759001],\n",
              "       [0.47633051],\n",
              "       [0.3003757 ],\n",
              "       [0.21821789],\n",
              "       [0.14547859],\n",
              "       [0.21821789],\n",
              "       [0.08908708],\n",
              "       [0.23145502],\n",
              "       [0.26318068],\n",
              "       [0.17817416],\n",
              "       [0.        ],\n",
              "       [0.24209101],\n",
              "       [0.17496355],\n",
              "       [0.29277002],\n",
              "       [0.08908708],\n",
              "       [0.08908708],\n",
              "       [0.4454354 ],\n",
              "       [0.43643578],\n",
              "       [0.        ],\n",
              "       [0.48304589],\n",
              "       [0.        ],\n",
              "       [0.3927922 ],\n",
              "       [0.21821789],\n",
              "       [0.        ],\n",
              "       [0.06299408],\n",
              "       [0.34236839],\n",
              "       [0.48304589],\n",
              "       [0.15430335],\n",
              "       [0.10910895],\n",
              "       [0.32732684],\n",
              "       [0.17496355],\n",
              "       [0.06900656],\n",
              "       [0.07715167],\n",
              "       [0.09759001],\n",
              "       [0.38575837],\n",
              "       [0.49487166],\n",
              "       [0.23145502],\n",
              "       [0.50709255],\n",
              "       [0.35634832],\n",
              "       [0.41403934],\n",
              "       [0.26318068],\n",
              "       [0.16495722],\n",
              "       [0.08908708],\n",
              "       [0.        ],\n",
              "       [0.16495722],\n",
              "       [0.13159034],\n",
              "       [0.16495722],\n",
              "       [0.        ],\n",
              "       [0.10910895],\n",
              "       [0.        ],\n",
              "       [0.        ],\n",
              "       [0.14547859]])"
            ]
          },
          "metadata": {},
          "execution_count": 8
        }
      ],
      "source": [
        "sim"
      ]
    },
    {
      "cell_type": "code",
      "source": [
        "sim.shape"
      ],
      "metadata": {
        "colab": {
          "base_uri": "https://localhost:8080/"
        },
        "id": "OKW1XH7Nch6C",
        "outputId": "58e395c7-4b66-4ef4-a48f-8dc3c34a6a1f"
      },
      "execution_count": 9,
      "outputs": [
        {
          "output_type": "execute_result",
          "data": {
            "text/plain": [
              "(98, 1)"
            ]
          },
          "metadata": {},
          "execution_count": 9
        }
      ]
    },
    {
      "cell_type": "code",
      "source": [
        "# sim[0:97,0:1]"
      ],
      "metadata": {
        "id": "T3HHx0offGr4"
      },
      "execution_count": 10,
      "outputs": []
    },
    {
      "cell_type": "code",
      "source": [
        "# lop=0\n",
        "# predli=[]\n",
        "# while lop!=40:\n",
        "#   ppp=lop+1\n",
        "#   li1=sorted(list(enumerate(sim[0:97,lop:ppp])), reverse = True, key = lambda x : x[1])[0:6]\n",
        "#   lit=li1[0]\n",
        "#   ll=list(df['disease'].iloc[lit[0]:(lit[0]+1)])\n",
        "#   predli.append(ll[0])\n",
        "#   print(ll)\n",
        "#   lop=lop+1"
      ],
      "metadata": {
        "id": "YOCWDDlffnW3"
      },
      "execution_count": 11,
      "outputs": []
    },
    {
      "cell_type": "code",
      "source": [
        "# predli"
      ],
      "metadata": {
        "id": "tiACnBWZkdSi"
      },
      "execution_count": 12,
      "outputs": []
    },
    {
      "cell_type": "code",
      "source": [
        "# y=df1.Disease\n",
        "# y"
      ],
      "metadata": {
        "id": "UPWeKu9Ck7Q-"
      },
      "execution_count": 13,
      "outputs": []
    },
    {
      "cell_type": "code",
      "source": [
        "# report = classification_report(y,predli)\n",
        "# print(report)"
      ],
      "metadata": {
        "id": "r4DP617PlVDK"
      },
      "execution_count": 14,
      "outputs": []
    },
    {
      "cell_type": "code",
      "execution_count": 15,
      "metadata": {
        "colab": {
          "base_uri": "https://localhost:8080/"
        },
        "id": "kw657QLfRo58",
        "outputId": "ad7720e9-f392-443f-a871-076e75fe11e8"
      },
      "outputs": [
        {
          "output_type": "execute_result",
          "data": {
            "text/plain": [
              "[(4, array([0.6172134])),\n",
              " (83, array([0.50709255])),\n",
              " (81, array([0.49487166])),\n",
              " (7, array([0.48304589])),\n",
              " (13, array([0.48304589])),\n",
              " (65, array([0.48304589]))]"
            ]
          },
          "metadata": {},
          "execution_count": 15
        }
      ],
      "source": [
        "li1=sorted(list(enumerate(sim[:])), reverse = True, key = lambda x : x[1])[0:6]\n",
        "li1"
      ]
    },
    {
      "cell_type": "code",
      "execution_count": 15,
      "metadata": {
        "id": "lHfHTgtONoEo"
      },
      "outputs": [],
      "source": []
    },
    {
      "cell_type": "code",
      "execution_count": 16,
      "metadata": {
        "colab": {
          "base_uri": "https://localhost:8080/"
        },
        "id": "geubJZ8MLTav",
        "outputId": "90d23bba-6e96-451d-a9c2-5e7b8c960419"
      },
      "outputs": [
        {
          "output_type": "execute_result",
          "data": {
            "text/plain": [
              "4"
            ]
          },
          "metadata": {},
          "execution_count": 16
        }
      ],
      "source": [
        "lit=li1[0]\n",
        "lit[0]"
      ]
    },
    {
      "cell_type": "code",
      "execution_count": 17,
      "metadata": {
        "colab": {
          "base_uri": "https://localhost:8080/"
        },
        "id": "8MswRbIrMBjg",
        "outputId": "47c93028-309f-43ac-ba5d-80b4508db2c0"
      },
      "outputs": [
        {
          "output_type": "execute_result",
          "data": {
            "text/plain": [
              "['stroke']"
            ]
          },
          "metadata": {},
          "execution_count": 17
        }
      ],
      "source": [
        "ll=list(df['disease'].iloc[lit[0]:(lit[0]+1)])\n",
        "ll"
      ]
    }
  ],
  "metadata": {
    "colab": {
      "provenance": []
    },
    "kernelspec": {
      "display_name": "Python 3",
      "name": "python3"
    },
    "language_info": {
      "name": "python"
    }
  },
  "nbformat": 4,
  "nbformat_minor": 0
}